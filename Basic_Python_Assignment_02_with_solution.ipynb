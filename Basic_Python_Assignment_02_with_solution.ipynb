{
  "cells": [
    {
      "cell_type": "markdown",
      "metadata": {
        "id": "dQhcBH-24h-R"
      },
      "source": [
        "1. What’s The Difference Between The Python append() and extend() Methods?\n",
        "\n",
        "2. Write a Python program to append a list to the second list\n",
        "\n",
        "3. Write a Python program to find the third-largest number in a list\n",
        "4. Write a Python program to get the frequency of the elements in a list.\n",
        "5. Write a Python program to check whether a list contains a sublist\n",
        "6. Write a Python program to generate all sublists of a list\n",
        "7. Write a Python program to find common items from two lists\n",
        "8. How to flatten a list in python?\n",
        "9. How to sort a list in ascending and descending order without using the sort function?\n",
        "10. How to sort a tuple?\n",
        "11. Write a Python program to convert a list of multiple integers into a single integer\n",
        "\n",
        "a. [11, 33, 50] >>> 113350\n",
        "\n",
        "1. Difference between del and clear?\n",
        "2. Difference between remove and pop?\n",
        "3. Difference between indexing and Slicing?\n",
        "4. Difference between sort and sorted?\n",
        "5. Difference between reverse and reversed?\n",
        "6. Difference between copy and deep copy?\n",
        "7. How to check whether the list is empty or not?\n",
        "8. How to concatenate two lists?\n",
        "9. How to find the occurrences of an element in the python list?\n",
        "10. How to flatten a list in python?\n"
      ]
    },
    {
      "cell_type": "markdown",
      "metadata": {
        "id": "4TDy6KqppYws"
      },
      "source": [
        "## Q1. What’s The Difference Between The Python append() and extend() Methods?\n",
        "\n"
      ]
    },
    {
      "cell_type": "code",
      "execution_count": null,
      "metadata": {
        "id": "KH_WO92Z5zMt"
      },
      "outputs": [],
      "source": [
        " "
      ]
    },
    {
      "cell_type": "markdown",
      "metadata": {
        "id": "4GfUfyahpMT8"
      },
      "source": [
        " Append() append adds a single element and end of a list.\n",
        " \n",
        " A list is an object. If you append another list onto a list, the parameter list will be a single object at the end of the list."
      ]
    },
    {
      "cell_type": "code",
      "execution_count": null,
      "metadata": {
        "colab": {
          "base_uri": "https://localhost:8080/"
        },
        "id": "sjnuaZ3C79-D",
        "outputId": "8c91f9a1-f67c-4b26-e424-9e5ae215fa6d"
      },
      "outputs": [
        {
          "name": "stdout",
          "output_type": "stream",
          "text": [
            "[10, 12, 15, 14, 47, 23]\n"
          ]
        }
      ],
      "source": [
        "#append \n",
        "x = [10,12,15,14,47]\n",
        "x.append(23)\n",
        "print(x)"
      ]
    },
    {
      "cell_type": "code",
      "execution_count": null,
      "metadata": {
        "colab": {
          "base_uri": "https://localhost:8080/"
        },
        "id": "JlG0hHH97-90",
        "outputId": "93159236-a762-41d5-bd82-81cac21a3aad"
      },
      "outputs": [
        {
          "name": "stdout",
          "output_type": "stream",
          "text": [
            "[10, 15, 17, 45, [15, 23, 56, 96]]\n"
          ]
        }
      ],
      "source": [
        "x = [10,15,17,45]\n",
        "y = [15,23,56,96]\n",
        "\n",
        "x.append(y)\n",
        "print(x)"
      ]
    },
    {
      "cell_type": "markdown",
      "metadata": {
        "id": "1afBPj9gwkYs"
      },
      "source": [
        "extend(): Iterates over its argument and adding each element to the list and extending the list. The length of the list increases by number of elements in it’s argument."
      ]
    },
    {
      "cell_type": "code",
      "execution_count": null,
      "metadata": {
        "colab": {
          "base_uri": "https://localhost:8080/"
        },
        "id": "FeK4verDvVCj",
        "outputId": "151c5380-4b01-4f64-88ac-37c19d766e13"
      },
      "outputs": [
        {
          "data": {
            "text/plain": [
              "[10, 2, 20, 3, 63, 69, 'h', 'e', 'l', 'l', 'o']"
            ]
          },
          "execution_count": 7,
          "metadata": {},
          "output_type": "execute_result"
        }
      ],
      "source": [
        "x = [10,2,20,3,63,69]\n",
        "x.extend(\"hello\")\n",
        "x"
      ]
    },
    {
      "cell_type": "code",
      "execution_count": null,
      "metadata": {
        "colab": {
          "base_uri": "https://localhost:8080/"
        },
        "id": "KwmM5nbcw48G",
        "outputId": "3a86a676-480f-4e8c-d9fa-1e71924b22d9"
      },
      "outputs": [
        {
          "name": "stdout",
          "output_type": "stream",
          "text": [
            "[10, 15, 1, 25, 14, '1', '2', ',', '4', '5', ',', '8', '6', ',', '9', '5', ',', '9', '6']"
          ]
        }
      ],
      "source": [
        "x = [10,15,1,25,14]\n",
        "x.extend(\"12,45,86,95,96\")\n",
        "print(x,end=\"\")"
      ]
    },
    {
      "cell_type": "markdown",
      "metadata": {
        "id": "tpMrMdtjU7pQ"
      },
      "source": [
        "## Q2. Write a Python program to append a list to the second list"
      ]
    },
    {
      "cell_type": "code",
      "execution_count": null,
      "metadata": {
        "colab": {
          "base_uri": "https://localhost:8080/"
        },
        "id": "1YSyt9M8QQM0",
        "outputId": "6f04eb39-d210-4ebe-f182-09b1592465e0"
      },
      "outputs": [
        {
          "name": "stdout",
          "output_type": "stream",
          "text": [
            "[10, 11, 12, 13]\n",
            "[1, 2, 3, 4, 5, 6, [10, 11, 12, 13]]\n"
          ]
        }
      ],
      "source": [
        "#we can use append () to append one list in other\n",
        "\n",
        "x = [1,2,3,4,5,6]\n",
        "y = [10,11,12,13]  #nested list consider as one element\n",
        "x.append(y)\n",
        "print(y)\n",
        "print(x)"
      ]
    },
    {
      "cell_type": "code",
      "execution_count": null,
      "metadata": {
        "colab": {
          "base_uri": "https://localhost:8080/"
        },
        "id": "hXym_39yVNtG",
        "outputId": "109c8c04-271f-4d2e-c804-a13565ec69fc"
      },
      "outputs": [
        {
          "data": {
            "text/plain": [
              "[10, 11, 12, 13]"
            ]
          },
          "execution_count": 8,
          "metadata": {},
          "output_type": "execute_result"
        }
      ],
      "source": [
        "x[6] #consider as one element"
      ]
    },
    {
      "cell_type": "markdown",
      "metadata": {
        "id": "PJfUBsgNVzjN"
      },
      "source": [
        "## Q3. Write a Python program to find the third-largest number in a list\n",
        "\n",
        "1st we sort list in ascending or descending order then indexing we can get 3rd largest number"
      ]
    },
    {
      "cell_type": "code",
      "execution_count": null,
      "metadata": {
        "colab": {
          "base_uri": "https://localhost:8080/"
        },
        "id": "qC2rWa4HVbUD",
        "outputId": "6af6bac1-950a-4ccf-ca3d-a2e19867973b"
      },
      "outputs": [
        {
          "name": "stdout",
          "output_type": "stream",
          "text": [
            "[3, 10, 15, 19, 46, 47, 52, 90, 101]\n",
            "52\n"
          ]
        }
      ],
      "source": [
        "#using sort () sort list in ascending \n",
        "\n",
        "x = [10,15,47,52,3,101,19,90,46]\n",
        "x.sort()\n",
        "print(x)\n",
        "print(x[-3]) # 3rd largest number in list"
      ]
    },
    {
      "cell_type": "markdown",
      "metadata": {
        "id": "-YX2Nu4YZCf5"
      },
      "source": [
        "# Q4. Write a Python program to get the frequency of the elements in a list.\n",
        "\n",
        "we can use count() operator to get frequency of elements in a list\n",
        "\n",
        "syntax list.count(n)"
      ]
    },
    {
      "cell_type": "code",
      "execution_count": null,
      "metadata": {
        "colab": {
          "base_uri": "https://localhost:8080/"
        },
        "id": "ImcKglq6W8rC",
        "outputId": "87af5602-1f49-421c-f957-314e1becc697"
      },
      "outputs": [
        {
          "name": "stdout",
          "output_type": "stream",
          "text": [
            "3\n",
            "2\n"
          ]
        },
        {
          "data": {
            "text/plain": [
              "2"
            ]
          },
          "execution_count": 20,
          "metadata": {},
          "output_type": "execute_result"
        }
      ],
      "source": [
        "#count()\n",
        "\n",
        "list1 =[10,12,45,10,15,12,45,54,5,10,12,15]\n",
        "\n",
        "print(list1.count(12))\n",
        "print(list1.count(45))\n",
        "list1.count(15)\n"
      ]
    },
    {
      "cell_type": "markdown",
      "metadata": {
        "id": "MzpL2IMzcelz"
      },
      "source": [
        "# Q5. Write a Python program to check whether a list contains a sublist"
      ]
    },
    {
      "cell_type": "code",
      "execution_count": 29,
      "metadata": {
        "colab": {
          "base_uri": "https://localhost:8080/"
        },
        "id": "kY4lTHqzZz6t",
        "outputId": "151e57df-9693-4176-8811-f1ec3f96f672"
      },
      "outputs": [
        {
          "output_type": "stream",
          "name": "stdout",
          "text": [
            "the sublist element 14 is in parent list\n",
            "the sublist element 15 is in parent list\n",
            "the sublist element 66 is in parent list\n"
          ]
        }
      ],
      "source": [
        "l = [10,12,13,14,15,16,17,18]   #list\n",
        "\n",
        "l1 = [14,15,66]                #sublist\n",
        "l2=l1\n",
        "for i in l1:\n",
        "  if True:\n",
        "    print(\"the sublist element\",i ,\"is in parent list\")\n",
        "  else:\n",
        "    print(\"the sublist element\",i ,\"is not in parent list\") \n",
        "  \n"
      ]
    },
    {
      "cell_type": "markdown",
      "source": [
        "# Q6. Write a Python program to generate all sublists of a list"
      ],
      "metadata": {
        "id": "FEeppov4tuhF"
      }
    },
    {
      "cell_type": "markdown",
      "source": [
        ""
      ],
      "metadata": {
        "id": "ZXHxzKHatudn"
      }
    },
    {
      "cell_type": "code",
      "execution_count": 105,
      "metadata": {
        "id": "maA_EYQZh9hx",
        "colab": {
          "base_uri": "https://localhost:8080/"
        },
        "outputId": "57f89248-66ba-4ffa-a583-12c57a643672"
      },
      "outputs": [
        {
          "output_type": "stream",
          "name": "stdout",
          "text": [
            "[10]\n",
            "[10, 12]\n",
            "[10, 12, 15]\n",
            "[10, 12, 15, 16]\n",
            "[10, 12, 15, 16, 17]\n",
            "[10, 12, 15, 16, 17, 18]\n",
            "6\n"
          ]
        }
      ],
      "source": [
        "l = [10,12,15,16,17,18]\n",
        "n= len(l)\n",
        "l2 = []\n",
        "for k in l:     \n",
        "  l2.append(k)\n",
        "  print(l2)\n",
        "print(n)  #length of list "
      ]
    },
    {
      "cell_type": "markdown",
      "source": [
        "## Q7. Write a Python program to find common items from two lists\n",
        "\n",
        "\n",
        "by using list comprehension"
      ],
      "metadata": {
        "id": "89IeyC1Xlt7l"
      }
    },
    {
      "cell_type": "code",
      "source": [
        "#list comprehension\n",
        "l1 = [10,12,15,16,17,18,19]\n",
        "l2 = [7,8,9,10,11,12,16,20]\n",
        "\n",
        "l3=[i for i in l1 if i in l2]\n",
        "\n",
        "print(l3)\n",
        "#using intersection\n",
        "#so 1st convert in to set\n",
        "l3 = set(l1)\n",
        "l4 = set(l2)\n",
        "print(list(l3 & l4))"
      ],
      "metadata": {
        "colab": {
          "base_uri": "https://localhost:8080/"
        },
        "id": "yxg6Tanr2XzY",
        "outputId": "035c16b8-6798-441e-c468-df3defdf5ea6"
      },
      "execution_count": 92,
      "outputs": [
        {
          "output_type": "stream",
          "name": "stdout",
          "text": [
            "[10, 12, 16]\n",
            "[16, 10, 12]\n"
          ]
        }
      ]
    },
    {
      "cell_type": "markdown",
      "source": [
        "# Q8. How to flatten a list in python?"
      ],
      "metadata": {
        "id": "tT3pyPX1lunv"
      }
    },
    {
      "cell_type": "code",
      "source": [
        "def flatten(list1):\n",
        "    if isinstance(list1, list):\n",
        "        list2 = []\n",
        "        for i in list1:\n",
        "            list2.extend(flatten(i))\n",
        "        return list2\n",
        "    else:\n",
        "        return [list1]"
      ],
      "metadata": {
        "id": "PPH5hE8c8uRI"
      },
      "execution_count": 95,
      "outputs": []
    },
    {
      "cell_type": "code",
      "source": [
        "list1 = [10,12,15,45,48]\n",
        "flatten(list1)"
      ],
      "metadata": {
        "colab": {
          "base_uri": "https://localhost:8080/"
        },
        "id": "oSraoRRj_jnZ",
        "outputId": "73c9100a-2d04-489c-dc02-0056d3e2b90a"
      },
      "execution_count": 96,
      "outputs": [
        {
          "output_type": "execute_result",
          "data": {
            "text/plain": [
              "[10, 12, 15, 45, 48]"
            ]
          },
          "metadata": {},
          "execution_count": 96
        }
      ]
    },
    {
      "cell_type": "markdown",
      "source": [
        "#Q9. How to sort a list in ascending and descending order without using the sort function?"
      ],
      "metadata": {
        "id": "zN52Y3MDCW7E"
      }
    },
    {
      "cell_type": "code",
      "source": [
        "#we use loop and compare adjacent valuse and swap the values\n",
        "\n",
        "# ascending order \n",
        "\n",
        "l = [10,15,14,12,18,17]\n",
        "n = len(l)\n",
        "\n",
        "for i in range(0,n):      #iterating every value\n",
        "\n",
        "  for j in range (0,i):   \n",
        "\n",
        "   if l[i]>l[j]:         #checking adjacent values\n",
        "\n",
        "     l[i],l[j]=l[j],l[i] #swap if true\n",
        "\n",
        "print(l)"
      ],
      "metadata": {
        "colab": {
          "base_uri": "https://localhost:8080/"
        },
        "id": "hKPUvQq-Af65",
        "outputId": "0ab1027b-9c9d-4b99-87b4-9d9be2ac420f"
      },
      "execution_count": 110,
      "outputs": [
        {
          "output_type": "stream",
          "name": "stdout",
          "text": [
            "[18, 17, 15, 14, 12, 10]\n"
          ]
        }
      ]
    },
    {
      "cell_type": "code",
      "source": [
        " #descending order\n",
        "\n",
        " l=[15,25,35,96,41,48,52]\n",
        "\n",
        "for i in range(len(l)):\n",
        "\n",
        "  for j in range(i,len(l)):\n",
        "\n",
        "    if l[i]<l[j]:\n",
        "\n",
        "      l[i],l[j]=l[j],l[i]\n",
        "print(l)"
      ],
      "metadata": {
        "colab": {
          "base_uri": "https://localhost:8080/"
        },
        "id": "aiFLMugOD8x9",
        "outputId": "aa74677a-349a-4b76-d210-db1d560d33e9"
      },
      "execution_count": 111,
      "outputs": [
        {
          "output_type": "stream",
          "name": "stdout",
          "text": [
            "[96, 52, 48, 41, 35, 25, 15]\n"
          ]
        }
      ]
    },
    {
      "cell_type": "markdown",
      "source": [
        "#Q.10 How to sort a tuple?"
      ],
      "metadata": {
        "id": "PSFpVwKaJ-0O"
      }
    },
    {
      "cell_type": "code",
      "source": [
        "x = (10,13,17,19,18,15,14)\n",
        "y = list(x)              #1st change list in tuple\n",
        "y.sort()                 #we can sort list using sort operation\n",
        "print(tuple(y))"
      ],
      "metadata": {
        "colab": {
          "base_uri": "https://localhost:8080/"
        },
        "id": "_YNVCl7MHhoz",
        "outputId": "9a98fa0e-1b44-4698-81c1-fb8bb624d07a"
      },
      "execution_count": 114,
      "outputs": [
        {
          "output_type": "stream",
          "name": "stdout",
          "text": [
            "(10, 13, 14, 15, 17, 18, 19)\n"
          ]
        }
      ]
    },
    {
      "cell_type": "code",
      "source": [
        ""
      ],
      "metadata": {
        "id": "P_PfRiEnKb_9"
      },
      "execution_count": null,
      "outputs": []
    },
    {
      "cell_type": "markdown",
      "source": [
        "## Q11. Write a Python program to convert a list of multiple integers into a single integer\n",
        "\n",
        "a. [11, 33, 50] >>> 113350nb "
      ],
      "metadata": {
        "id": "r75MaoOCKv1O"
      }
    },
    {
      "cell_type": "code",
      "source": [
        "a = [10,12,15,14,86,20]\n",
        "\n",
        "for i in a:        \n",
        "  print(i,end=\"\")     #end='' print number one by one and with out space if we didnt mention the space in \"\"#\n"
      ],
      "metadata": {
        "colab": {
          "base_uri": "https://localhost:8080/"
        },
        "id": "5R4pCAZmK0qX",
        "outputId": "f70db8ad-d39d-4ead-ae18-265515d6e096"
      },
      "execution_count": 116,
      "outputs": [
        {
          "output_type": "stream",
          "name": "stdout",
          "text": [
            "101215148620"
          ]
        }
      ]
    },
    {
      "cell_type": "code",
      "source": [
        "#convert list in to string and join \n",
        "a = [10,12,15,178]\n",
        "\n",
        "for i in a:\n",
        "  s = str(i)\n",
        "  #int(\"\".join(s))\n",
        "  print(s,end=\"\")"
      ],
      "metadata": {
        "colab": {
          "base_uri": "https://localhost:8080/"
        },
        "id": "aaTl8SowRA-9",
        "outputId": "25f16042-c33f-416e-f6d1-cbe8d698fc90"
      },
      "execution_count": 121,
      "outputs": [
        {
          "output_type": "stream",
          "name": "stdout",
          "text": [
            "101215178"
          ]
        }
      ]
    },
    {
      "cell_type": "code",
      "source": [
        "#using map\n",
        "\n",
        "def convert(list):\n",
        "      \n",
        "    # Converting integer list to string list\n",
        "    # and joining the list using join()\n",
        "    res = int(\"\".join(map(str, list)))\n",
        "      \n",
        "    return res\n",
        "\n",
        "    "
      ],
      "metadata": {
        "id": "S3mZzLTqSTMO"
      },
      "execution_count": 122,
      "outputs": []
    },
    {
      "cell_type": "code",
      "source": [
        "convert([10,12,15,16])"
      ],
      "metadata": {
        "colab": {
          "base_uri": "https://localhost:8080/"
        },
        "id": "wveRiVITTIzo",
        "outputId": "5c3d6ebd-9f7d-499e-916f-619788d69b14"
      },
      "execution_count": 123,
      "outputs": [
        {
          "output_type": "execute_result",
          "data": {
            "text/plain": [
              "10121516"
            ]
          },
          "metadata": {},
          "execution_count": 123
        }
      ]
    },
    {
      "cell_type": "code",
      "source": [
        ""
      ],
      "metadata": {
        "id": "H9QDoqBaTijb"
      },
      "execution_count": null,
      "outputs": []
    },
    {
      "cell_type": "markdown",
      "source": [
        "# Q1. Difference between del and clear?\n",
        "\n",
        "After deleting list , list deletes permanently and we try to call back list it will give error.\n",
        "\n",
        "if we clear a list it only clear list and list becomes empty list. "
      ],
      "metadata": {
        "id": "FzW3M8PbTeLi"
      }
    },
    {
      "cell_type": "code",
      "source": [
        "l = [10,12,16]\n",
        "del l\n",
        "L"
      ],
      "metadata": {
        "colab": {
          "base_uri": "https://localhost:8080/",
          "height": 200
        },
        "id": "qlJ9XyvSTM8-",
        "outputId": "e8859cc6-63ff-408b-da87-90c07a207893"
      },
      "execution_count": 132,
      "outputs": [
        {
          "output_type": "error",
          "ename": "NameError",
          "evalue": "ignored",
          "traceback": [
            "\u001b[0;31m---------------------------------------------------------------------------\u001b[0m",
            "\u001b[0;31mNameError\u001b[0m                                 Traceback (most recent call last)",
            "\u001b[0;32m<ipython-input-132-810d58072879>\u001b[0m in \u001b[0;36m<module>\u001b[0;34m()\u001b[0m\n\u001b[1;32m      1\u001b[0m \u001b[0ml\u001b[0m \u001b[0;34m=\u001b[0m \u001b[0;34m[\u001b[0m\u001b[0;36m10\u001b[0m\u001b[0;34m,\u001b[0m\u001b[0;36m12\u001b[0m\u001b[0;34m,\u001b[0m\u001b[0;36m16\u001b[0m\u001b[0;34m]\u001b[0m\u001b[0;34m\u001b[0m\u001b[0;34m\u001b[0m\u001b[0m\n\u001b[1;32m      2\u001b[0m \u001b[0;32mdel\u001b[0m \u001b[0ml\u001b[0m\u001b[0;34m\u001b[0m\u001b[0;34m\u001b[0m\u001b[0m\n\u001b[0;32m----> 3\u001b[0;31m \u001b[0mL\u001b[0m\u001b[0;34m\u001b[0m\u001b[0;34m\u001b[0m\u001b[0m\n\u001b[0m",
            "\u001b[0;31mNameError\u001b[0m: name 'L' is not defined"
          ]
        }
      ]
    },
    {
      "cell_type": "code",
      "source": [
        "id(l)"
      ],
      "metadata": {
        "colab": {
          "base_uri": "https://localhost:8080/",
          "height": 165
        },
        "id": "uGDyL7reTneU",
        "outputId": "1874b638-2438-4262-c161-b620e5166a07"
      },
      "execution_count": 133,
      "outputs": [
        {
          "output_type": "error",
          "ename": "NameError",
          "evalue": "ignored",
          "traceback": [
            "\u001b[0;31m---------------------------------------------------------------------------\u001b[0m",
            "\u001b[0;31mNameError\u001b[0m                                 Traceback (most recent call last)",
            "\u001b[0;32m<ipython-input-133-3d819641aabe>\u001b[0m in \u001b[0;36m<module>\u001b[0;34m()\u001b[0m\n\u001b[0;32m----> 1\u001b[0;31m \u001b[0mid\u001b[0m\u001b[0;34m(\u001b[0m\u001b[0ml\u001b[0m\u001b[0;34m)\u001b[0m\u001b[0;34m\u001b[0m\u001b[0;34m\u001b[0m\u001b[0m\n\u001b[0m",
            "\u001b[0;31mNameError\u001b[0m: name 'l' is not defined"
          ]
        }
      ]
    },
    {
      "cell_type": "code",
      "source": [
        "l = [10,15,14,75]\n",
        "l.clear()\n",
        "l\n"
      ],
      "metadata": {
        "colab": {
          "base_uri": "https://localhost:8080/"
        },
        "id": "ByhRxpchTorR",
        "outputId": "ac46d96b-066b-4455-d7f9-f893f4bf5e98"
      },
      "execution_count": 134,
      "outputs": [
        {
          "output_type": "execute_result",
          "data": {
            "text/plain": [
              "[]"
            ]
          },
          "metadata": {},
          "execution_count": 134
        }
      ]
    },
    {
      "cell_type": "code",
      "source": [
        "id(l)"
      ],
      "metadata": {
        "colab": {
          "base_uri": "https://localhost:8080/"
        },
        "id": "m7dDE2w3Tv2H",
        "outputId": "2e217a34-f0ad-457a-8f41-65936fd15fab"
      },
      "execution_count": 135,
      "outputs": [
        {
          "output_type": "execute_result",
          "data": {
            "text/plain": [
              "139702233683040"
            ]
          },
          "metadata": {},
          "execution_count": 135
        }
      ]
    },
    {
      "cell_type": "markdown",
      "source": [
        "# Q2. Difference between remove and pop?\n",
        "\n",
        "remove : syntax :  list.remove(x) : x is the item we want to remove. remove does not print the removed item from list. \n",
        "\n",
        "pop: syntax : list.remove(index) : in pop items removed using index value. and after removing it will print the item removed"
      ],
      "metadata": {
        "id": "TXJ4jnUUU0Ta"
      }
    },
    {
      "cell_type": "code",
      "source": [
        "l = [10,12,15,14,45]\n",
        "print(l.remove(12))\n",
        "l"
      ],
      "metadata": {
        "colab": {
          "base_uri": "https://localhost:8080/"
        },
        "id": "FUbmcEbeTw-0",
        "outputId": "a45c7540-7ecd-43b0-940c-772f0dcc0346"
      },
      "execution_count": 146,
      "outputs": [
        {
          "output_type": "stream",
          "name": "stdout",
          "text": [
            "None\n"
          ]
        },
        {
          "output_type": "execute_result",
          "data": {
            "text/plain": [
              "[10, 15, 14, 45]"
            ]
          },
          "metadata": {},
          "execution_count": 146
        }
      ]
    },
    {
      "cell_type": "code",
      "source": [
        "print(l.pop(2))\n",
        "l"
      ],
      "metadata": {
        "colab": {
          "base_uri": "https://localhost:8080/"
        },
        "id": "mzIIy7aFVMIk",
        "outputId": "4df683ef-e10d-4084-d081-e3d22c4d69cb"
      },
      "execution_count": 147,
      "outputs": [
        {
          "output_type": "stream",
          "name": "stdout",
          "text": [
            "14\n"
          ]
        },
        {
          "output_type": "execute_result",
          "data": {
            "text/plain": [
              "[10, 15, 45]"
            ]
          },
          "metadata": {},
          "execution_count": 147
        }
      ]
    },
    {
      "cell_type": "markdown",
      "source": [
        "# Q3. Difference between indexing and Slicing?\n",
        "\n",
        "indexing: using indexing we can call just indexing item in list or tuple\n",
        "\n",
        "slicing : useing index we can slice list items in range. and also we can decide start , end and steps as well.\n",
        "\n",
        "\n",
        "note : indexing from left side starts from \"0\", and from right side starts from -1\n",
        "\n",
        "\n",
        "if index value not in range of list indexing shows error but in slicing never show error"
      ],
      "metadata": {
        "id": "wlBbDEbFXOKx"
      }
    },
    {
      "cell_type": "code",
      "source": [
        "#indexing\n",
        "x = [10,12,15,14,18,15,12,58]\n",
        "\n",
        "print(x[0])\n",
        "print(x[6])\n",
        "print(x[-6])\n",
        "print(x[-4])\n"
      ],
      "metadata": {
        "colab": {
          "base_uri": "https://localhost:8080/"
        },
        "id": "PDB5RRjCVTPU",
        "outputId": "9ea31ad0-963f-40cb-810e-58e3572b1c91"
      },
      "execution_count": 148,
      "outputs": [
        {
          "output_type": "stream",
          "name": "stdout",
          "text": [
            "10\n",
            "12\n",
            "15\n",
            "18\n"
          ]
        }
      ]
    },
    {
      "cell_type": "code",
      "source": [
        "x[10]"
      ],
      "metadata": {
        "colab": {
          "base_uri": "https://localhost:8080/",
          "height": 165
        },
        "id": "l__OEEToZfp0",
        "outputId": "ad978ab0-97f2-4fa5-85cd-ee6cb7e92425"
      },
      "execution_count": 149,
      "outputs": [
        {
          "output_type": "error",
          "ename": "IndexError",
          "evalue": "ignored",
          "traceback": [
            "\u001b[0;31m---------------------------------------------------------------------------\u001b[0m",
            "\u001b[0;31mIndexError\u001b[0m                                Traceback (most recent call last)",
            "\u001b[0;32m<ipython-input-149-0bcbedae9f7e>\u001b[0m in \u001b[0;36m<module>\u001b[0;34m()\u001b[0m\n\u001b[0;32m----> 1\u001b[0;31m \u001b[0mx\u001b[0m\u001b[0;34m[\u001b[0m\u001b[0;36m10\u001b[0m\u001b[0;34m]\u001b[0m\u001b[0;34m\u001b[0m\u001b[0;34m\u001b[0m\u001b[0m\n\u001b[0m",
            "\u001b[0;31mIndexError\u001b[0m: list index out of range"
          ]
        }
      ]
    },
    {
      "cell_type": "code",
      "source": [
        "# slicing   #we use : to slice\n",
        "x = [10,12,45,78,96,52,14,25,2,52,1]\n",
        "#print list using slicing\n",
        "print(x[:])\n",
        "\n",
        "#pront items we want ex. from index 5 to index 8\n",
        "print(x[4:8])\n",
        "\n",
        "#print items upto index 4 : excluding index 4\n",
        "print(x[:4])\n",
        "\n",
        "#print items index 7 to end\n",
        "print(x[7:])\n",
        "\n",
        "#reverse the list\n",
        "\n",
        "print(x[::-1])\n",
        "\n",
        "#index out of range dont give error\n",
        "print(x[10000:1:10001])\n",
        "\n"
      ],
      "metadata": {
        "colab": {
          "base_uri": "https://localhost:8080/"
        },
        "id": "VAmWQtiGZh8O",
        "outputId": "836ee921-9f8f-46da-f39f-e9ac6276eeab"
      },
      "execution_count": 150,
      "outputs": [
        {
          "output_type": "stream",
          "name": "stdout",
          "text": [
            "[10, 12, 45, 78, 96, 52, 14, 25, 2, 52, 1]\n",
            "[96, 52, 14, 25]\n",
            "[10, 12, 45, 78]\n",
            "[25, 2, 52, 1]\n",
            "[1, 52, 2, 25, 14, 52, 96, 78, 45, 12, 10]\n",
            "[]\n"
          ]
        }
      ]
    },
    {
      "cell_type": "markdown",
      "source": [
        "# Q4. Difference between sort and sorted\n",
        "* sorted()\n",
        "\n",
        "sorted() method sorts the given sequence as well as set and dictionary(which is not a sequence) either in ascending order or in descending order(does unicode comparison for string char by char) and always return the a sorted list. This method doesnot effect the original sequence.\n",
        "\n",
        "* sort()\n",
        "\n",
        "sort() function is very similar to sorted() but unlike sorted it returns nothing and makes changes to the original sequence."
      ],
      "metadata": {
        "id": "dsQOVnnAdLxK"
      }
    },
    {
      "cell_type": "code",
      "source": [
        "l = [10,15,14,85,63,2,45,7]\n",
        "print(sorted(l))\n",
        "print(l)"
      ],
      "metadata": {
        "colab": {
          "base_uri": "https://localhost:8080/"
        },
        "id": "maAcgbonbb8o",
        "outputId": "bba580c8-b431-4bec-cbe5-fb9266e7f441"
      },
      "execution_count": 160,
      "outputs": [
        {
          "output_type": "stream",
          "name": "stdout",
          "text": [
            "[2, 7, 10, 14, 15, 45, 63, 85]\n",
            "[10, 15, 14, 85, 63, 2, 45, 7]\n"
          ]
        }
      ]
    },
    {
      "cell_type": "code",
      "source": [
        "print(l.sort())"
      ],
      "metadata": {
        "colab": {
          "base_uri": "https://localhost:8080/"
        },
        "id": "Awwje8FhfQdo",
        "outputId": "f0004d05-3fa7-48e2-e154-7251e770d31b"
      },
      "execution_count": 156,
      "outputs": [
        {
          "output_type": "stream",
          "name": "stdout",
          "text": [
            "None\n"
          ]
        }
      ]
    },
    {
      "cell_type": "code",
      "source": [
        "x =[10,2,8,4,6,9,3]\n",
        "x.sort()\n",
        "print(x)"
      ],
      "metadata": {
        "colab": {
          "base_uri": "https://localhost:8080/"
        },
        "id": "iwEv7oRifTYF",
        "outputId": "80c1390b-5312-480e-aaf9-a4d019e1af60"
      },
      "execution_count": 159,
      "outputs": [
        {
          "output_type": "stream",
          "name": "stdout",
          "text": [
            "[2, 3, 4, 6, 8, 9, 10]\n"
          ]
        }
      ]
    },
    {
      "cell_type": "markdown",
      "source": [
        "## Q5. Difference between reverse and reversed?\n",
        "\n",
        "reverse() actually reverses the elements in the container. reversed() doesn't actually reverse anything, it merely returns an object that can be used to iterate over the container's elements in reverse order."
      ],
      "metadata": {
        "id": "Sd8jnqdDhiJR"
      }
    },
    {
      "cell_type": "code",
      "source": [
        "l = [10,5,63,21,55,2]   \n",
        "l.reverse()\n",
        "print(l)"
      ],
      "metadata": {
        "colab": {
          "base_uri": "https://localhost:8080/"
        },
        "id": "ijgsfReYf9rc",
        "outputId": "8e6c6dab-89d2-4a6a-a2db-478cd1ba79f2"
      },
      "execution_count": 163,
      "outputs": [
        {
          "output_type": "stream",
          "name": "stdout",
          "text": [
            "[2, 55, 21, 63, 5, 10]\n"
          ]
        }
      ]
    },
    {
      "cell_type": "code",
      "source": [
        "l = [10,15,47,86,21,45]\n",
        "reversed(l)\n",
        "print(l)"
      ],
      "metadata": {
        "colab": {
          "base_uri": "https://localhost:8080/"
        },
        "id": "dTkEKkajhv-g",
        "outputId": "535e4613-c2ae-44de-af96-5256fbe484ac"
      },
      "execution_count": 168,
      "outputs": [
        {
          "output_type": "stream",
          "name": "stdout",
          "text": [
            "[10, 15, 47, 86, 21, 45]\n"
          ]
        }
      ]
    },
    {
      "cell_type": "markdown",
      "source": [
        "# Q6. Difference between copy and deep copy?\n",
        "\n",
        "In case of deep copy, a copy of object is copied in other object. It means that any changes made to a copy of object do not reflect in the original object. In python, this is implemented using “deepcopy()” function.\n",
        "\n",
        "\n",
        "copy means constructing a new collection object and then populating it with references to the child objects found in the original. The copying process does not recurse and therefore won’t create copies of the child objects themselves. In case of shallow copy, a reference of object is copied in other object. It means that any changes made to a copy of object do reflect in the original object. In python, this is implemented using “copy()” function."
      ],
      "metadata": {
        "id": "VwGX4KKqi8NP"
      }
    },
    {
      "cell_type": "code",
      "source": [
        "import copy\n",
        "l = [10,12,45,63,14]\n",
        "\n",
        "l1=copy.copy(l)\n",
        "\n",
        "print(l)\n",
        "print(l1)\n",
        "print(id(l))\n",
        "print(id(l1))\n",
        "\n",
        "l1[0]= 45\n",
        "print(l)\n",
        "print(l1)"
      ],
      "metadata": {
        "colab": {
          "base_uri": "https://localhost:8080/"
        },
        "id": "7ggimnt1iJfg",
        "outputId": "4156e924-de4e-496c-cbeb-bd3415d53ac8"
      },
      "execution_count": 184,
      "outputs": [
        {
          "output_type": "stream",
          "name": "stdout",
          "text": [
            "[10, 12, 45, 63, 14]\n",
            "[10, 12, 45, 63, 14]\n",
            "139702233009680\n",
            "139702233062048\n",
            "[10, 12, 45, 63, 14]\n",
            "[45, 12, 45, 63, 14]\n"
          ]
        }
      ]
    },
    {
      "cell_type": "code",
      "source": [
        "\n",
        "a = [10,12,15,14,16]\n",
        "\n",
        "a1=copy.deepcopy(a)\n",
        "\n",
        "print(a)\n",
        "print(a1)\n",
        "print(id(a))\n",
        "print(id(a1))\n",
        "\n",
        "a1[0]= 477\n",
        "print(a)\n",
        "print(a1)"
      ],
      "metadata": {
        "colab": {
          "base_uri": "https://localhost:8080/"
        },
        "id": "G1VgNJyTlNPK",
        "outputId": "529580e8-3c4c-4ae8-ddd9-9beabf99b41c"
      },
      "execution_count": 195,
      "outputs": [
        {
          "output_type": "stream",
          "name": "stdout",
          "text": [
            "[10, 12, 15, 14, 16]\n",
            "[10, 12, 15, 14, 16]\n",
            "139702233632848\n",
            "139702233572368\n",
            "[10, 12, 15, 14, 16]\n",
            "[477, 12, 15, 14, 16]\n"
          ]
        }
      ]
    },
    {
      "cell_type": "markdown",
      "source": [
        "## Q.7 How to check whether the list is empty or not?\n",
        "\n",
        "Empty lists are considered False in Python, hence the bool() function would return False if the list was passed as an argument. Other methods you can use to check if a list is empty are placing it inside an if statement, using the len() methods, or comparing it with an empty list."
      ],
      "metadata": {
        "id": "R4LjyrE4pCo4"
      }
    },
    {
      "cell_type": "code",
      "source": [
        "p = [] #empty list always false\n",
        "bool(p)"
      ],
      "metadata": {
        "colab": {
          "base_uri": "https://localhost:8080/"
        },
        "id": "-kseRu2onphb",
        "outputId": "70d8d1a4-4bcb-4ad6-b263-6a70e8dc05f2"
      },
      "execution_count": 198,
      "outputs": [
        {
          "output_type": "execute_result",
          "data": {
            "text/plain": [
              "False"
            ]
          },
          "metadata": {},
          "execution_count": 198
        }
      ]
    },
    {
      "cell_type": "code",
      "source": [
        " p = [1,3,5,6]\n",
        " bool(p)"
      ],
      "metadata": {
        "colab": {
          "base_uri": "https://localhost:8080/"
        },
        "id": "74nUefjypcVi",
        "outputId": "53b0cd4f-4d1b-428d-cd5c-c9f724bb4b21"
      },
      "execution_count": 199,
      "outputs": [
        {
          "output_type": "execute_result",
          "data": {
            "text/plain": [
              "True"
            ]
          },
          "metadata": {},
          "execution_count": 199
        }
      ]
    },
    {
      "cell_type": "code",
      "source": [
        "p = [] #using len function \n",
        "\n",
        "if len(p)==0:\n",
        "  print(\"list is empty\")\n",
        "  "
      ],
      "metadata": {
        "colab": {
          "base_uri": "https://localhost:8080/"
        },
        "id": "odL1FctJptfd",
        "outputId": "4add1893-2489-4cbd-cc5c-5abebb68d7f1"
      },
      "execution_count": 201,
      "outputs": [
        {
          "output_type": "stream",
          "name": "stdout",
          "text": [
            "list is empty\n"
          ]
        }
      ]
    },
    {
      "cell_type": "markdown",
      "source": [
        "# Q.8 How to concatenate two lists?\n",
        "\n",
        "\n",
        "using + we can add two lists"
      ],
      "metadata": {
        "id": "8kkHJV1XqGHM"
      }
    },
    {
      "cell_type": "code",
      "source": [
        "# using +\n",
        "\n",
        "list1 = [1,2,3,4]\n",
        "list2 = [5,6,7,8]\n",
        "list3 = list1 + list2\n",
        "print(list3)"
      ],
      "metadata": {
        "colab": {
          "base_uri": "https://localhost:8080/"
        },
        "id": "2tmYyJOCpwom",
        "outputId": "18cd6183-0dd7-4e27-897d-c808fa486794"
      },
      "execution_count": 202,
      "outputs": [
        {
          "output_type": "stream",
          "name": "stdout",
          "text": [
            "[1, 2, 3, 4, 5, 6, 7, 8]\n"
          ]
        }
      ]
    },
    {
      "cell_type": "markdown",
      "source": [
        "# Q.9 How to find the occurrences of an element in the python list?\n",
        "\n",
        "using count operation we can find occurrence of an element in python"
      ],
      "metadata": {
        "id": "51Toj57-qhHx"
      }
    },
    {
      "cell_type": "code",
      "source": [
        "#syntax : list.count(element)\n",
        "\n",
        "l = [1,2,3,4,1,2,3,4,1,4,1,2]\n",
        "\n",
        "print(l.count(1))\n",
        "print(l.count(2))\n",
        "print(l.count(3))\n",
        "print(l.count(4))"
      ],
      "metadata": {
        "colab": {
          "base_uri": "https://localhost:8080/"
        },
        "id": "JzFLfFLKqZji",
        "outputId": "c7b234fe-1951-4941-958f-543d21da69ff"
      },
      "execution_count": 204,
      "outputs": [
        {
          "output_type": "stream",
          "name": "stdout",
          "text": [
            "4\n",
            "3\n",
            "2\n",
            "3\n"
          ]
        }
      ]
    },
    {
      "cell_type": "markdown",
      "source": [
        "# Q.10 How to flatten a list in python?"
      ],
      "metadata": {
        "id": "9FfoplXDrNai"
      }
    },
    {
      "cell_type": "code",
      "source": [
        "def flatten(list1):\n",
        "    if isinstance(list1, list):\n",
        "        list2 = []\n",
        "        for i in list1:\n",
        "            list2.extend(flatten(i))\n",
        "        return list2\n",
        "    else:\n",
        "        return [list1]"
      ],
      "metadata": {
        "id": "hoRH5Iyvq8Ei"
      },
      "execution_count": 205,
      "outputs": []
    },
    {
      "cell_type": "code",
      "source": [
        "list1 = [23,56,32,562]\n",
        "flatten(list1)"
      ],
      "metadata": {
        "colab": {
          "base_uri": "https://localhost:8080/"
        },
        "id": "7ZKjppy2rgd7",
        "outputId": "3be3b17e-a5ff-4cc0-f230-cc86212cddc0"
      },
      "execution_count": 206,
      "outputs": [
        {
          "output_type": "execute_result",
          "data": {
            "text/plain": [
              "[23, 56, 32, 562]"
            ]
          },
          "metadata": {},
          "execution_count": 206
        }
      ]
    },
    {
      "cell_type": "code",
      "source": [
        ""
      ],
      "metadata": {
        "id": "b-U91Gt_rqup"
      },
      "execution_count": null,
      "outputs": []
    }
  ],
  "metadata": {
    "colab": {
      "name": "Basic_Python_Assignment_02_with_solution.ipynb",
      "provenance": [],
      "collapsed_sections": [],
      "authorship_tag": "ABX9TyN2lAf4yK73yOq9HKf7vOs2"
    },
    "kernelspec": {
      "display_name": "Python 3",
      "name": "python3"
    },
    "language_info": {
      "name": "python"
    }
  },
  "nbformat": 4,
  "nbformat_minor": 0
}