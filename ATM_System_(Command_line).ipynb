{
  "nbformat": 4,
  "nbformat_minor": 0,
  "metadata": {
    "colab": {
      "name": "ATM System (Command line).ipynb",
      "provenance": [],
      "collapsed_sections": [],
      "authorship_tag": "ABX9TyMkNB5BW7SxWqQkne2a2Qn9",
      "include_colab_link": true
    },
    "kernelspec": {
      "name": "python3",
      "display_name": "Python 3"
    },
    "language_info": {
      "name": "python"
    }
  },
  "cells": [
    {
      "cell_type": "markdown",
      "metadata": {
        "id": "view-in-github",
        "colab_type": "text"
      },
      "source": [
        "<a href=\"https://colab.research.google.com/github/sandeepbansode/Basic_Python_Assignments/blob/main/ATM_System_(Command_line).ipynb\" target=\"_parent\"><img src=\"https://colab.research.google.com/assets/colab-badge.svg\" alt=\"Open In Colab\"/></a>"
      ]
    },
    {
      "cell_type": "markdown",
      "source": [
        "# ATM System (Command line)\n",
        "Enter your card valid card check all are numbers? ---> (Take inputs)\n",
        "### 1. Display menu(Withdrawal, saving, current, other)\n",
        "### 2. Other\n",
        "a. PIN change, Block card\n",
        "### 3. Withdrawal\n",
        "\n",
        "a. Enter the amount to withdrawal in terms of 200 RS\n",
        "\n",
        "b. Check balance info\n",
        "\n",
        "c. If balance low then display Error message (Low balance)\n",
        "\n",
        "d. exit()\n",
        "\n",
        "e. Thank you\n",
        "\n",
        "Else:\n",
        "\n",
        "Update the remaining balance\n",
        "\n",
        "Write the balance in file.csv (name, account number, balance account type)\n",
        "Display message of successful transaction\n",
        "exit()\n",
        "### 4. PIN Exchange\n",
        "a. Enter card \n",
        "\n",
        "b. Enter the OTP\n",
        "\n",
        "c. Validate the OTP and mobile number\n",
        "\n",
        "d. Update the pin (as of now write it in csv file)file.csv (name, account number,\n",
        "balance account type, PIN)\n",
        "\n",
        "e. Display message of successful pin change\n",
        "\n",
        "f. Exit()\n",
        "### 5. Block Card\n",
        "a. Enter card number\n",
        "\n",
        "b. Enter the OTP\n",
        "\n",
        "c. Validate the OTP and mobile number\n",
        "\n",
        "d. Update the access field in csv to BLOCK ile.csv (name, account number, balance account type, PIN, access)\n",
        "\n",
        "e. Display successful message\n",
        "\n",
        "f. exit"
      ],
      "metadata": {
        "id": "rMbvYFY7jy2z"
      }
    },
    {
      "cell_type": "code",
      "execution_count": null,
      "metadata": {
        "id": "CL_7d6NCdpZS"
      },
      "outputs": [],
      "source": [
        "#hare we using loops \n",
        "\n",
        "#Enter your card valid card check all are numbers? ---> (Take inputs)\n",
        "\n",
        "def cond(card_number):\n",
        "  card_number =input(\"Enter Your Card Number :\" )\n",
        "  for card in card_number:\n",
        "    if card_number.isnumeric() == True :   # or len(card_number)!=12:\n",
        "      print(\"1. Withdrawal \\n\\n 2. Pin Exchange \\n\\n 3. Block Card \\n\\n 4. Other\")\n",
        "    \n",
        "    else: # card_number.isnumeric()==False : # and len(card_number)==12:\n",
        "      print(\"Valid card number\")\n",
        "      break\n",
        "  \n"
      ]
    },
    {
      "cell_type": "code",
      "source": [
        "cond(card_number)"
      ],
      "metadata": {
        "colab": {
          "base_uri": "https://localhost:8080/"
        },
        "id": "C1O9ipwNo4CU",
        "outputId": "dd288b7e-6ace-4fe3-d826-0f1ebea5e777"
      },
      "execution_count": null,
      "outputs": [
        {
          "output_type": "stream",
          "name": "stdout",
          "text": [
            "Enter Your Card Number :1245\n",
            "1. Withdrawal \n",
            "\n",
            " 2. Pin Exchange \n",
            "\n",
            " 3. Block Card \n",
            "\n",
            " 4. Other\n",
            "1. Withdrawal \n",
            "\n",
            " 2. Pin Exchange \n",
            "\n",
            " 3. Block Card \n",
            "\n",
            " 4. Other\n",
            "1. Withdrawal \n",
            "\n",
            " 2. Pin Exchange \n",
            "\n",
            " 3. Block Card \n",
            "\n",
            " 4. Other\n",
            "1. Withdrawal \n",
            "\n",
            " 2. Pin Exchange \n",
            "\n",
            " 3. Block Card \n",
            "\n",
            " 4. Other\n"
          ]
        }
      ]
    },
    {
      "cell_type": "code",
      "source": [
        "def condition(card_number):\n",
        "  card_number = input(\"Enter card number :\")\n",
        "\n",
        "  if card_number.isnumeric()==True:\n",
        "    print(\"\\n\\n 1. Withdrawal \\n\\n 2. Pin Exchange \\n\\n 3. Block Card \\n\\n 4. Other\")\n",
        "  else:\n",
        "    print(\"Enter valid card number\")\n"
      ],
      "metadata": {
        "id": "dOgBsWbRtNl5"
      },
      "execution_count": null,
      "outputs": []
    },
    {
      "cell_type": "code",
      "source": [
        "condition(card_number)"
      ],
      "metadata": {
        "colab": {
          "base_uri": "https://localhost:8080/"
        },
        "id": "yH_bm8Cm9sWB",
        "outputId": "9dc46baf-5ca4-45b9-c618-009a741f2eb9"
      },
      "execution_count": null,
      "outputs": [
        {
          "output_type": "stream",
          "name": "stdout",
          "text": [
            "Enter card number :123456\n",
            "\n",
            "\n",
            " 1. Withdrawal \n",
            "\n",
            " 2. Pin Exchange \n",
            "\n",
            " 3. Block Card \n",
            "\n",
            " 4. Other\n"
          ]
        }
      ]
    },
    {
      "cell_type": "code",
      "source": [
        "def withdrawal():\n",
        "  balance = 10000\n",
        "  w = eval(input (\"Enter the amount to withdrawal in terms of 200 rs :\" ))\n",
        "  if w %200 == 0:\n",
        "    if w<=balance:\n",
        "      z = balance-w\n",
        "      print(\"Transaction is Succesful\",w,\"withdrawn Remeaning balance is \",z)\n",
        "      print(\"Thank you. Come Again\")\n",
        "    else:\n",
        "      print(\"Insufficient Balance\")\n",
        "      exit\n",
        "      print(\"Thank you\")\n",
        "    \n",
        "  else:\n",
        "    print(\"Enter amount in multiple of 200\")\n",
        "\n",
        "    return\n"
      ],
      "metadata": {
        "id": "GSALZiyWA76c"
      },
      "execution_count": null,
      "outputs": []
    },
    {
      "cell_type": "code",
      "source": [
        "withdrawal()"
      ],
      "metadata": {
        "colab": {
          "base_uri": "https://localhost:8080/"
        },
        "id": "z0L5XKwjDRIo",
        "outputId": "d5258cc4-277d-43b5-e238-58bd690a8fa7"
      },
      "execution_count": null,
      "outputs": [
        {
          "output_type": "stream",
          "name": "stdout",
          "text": [
            "Enter the amount to withdrawal in terms of 200 rs :410\n",
            "Enter amount in multiple of 200\n"
          ]
        }
      ]
    },
    {
      "cell_type": "code",
      "source": [
        "\n",
        "'''def action(x):\n",
        "  x = (\"Enter action you want\")\n",
        "  if x.strip()==Withdrawal:\n",
        "    print(\"\\n Savings \\n\\n Current\")\n",
        "  if x.strip()==Pin Exchange:\n",
        "      \n",
        "'''"
      ],
      "metadata": {
        "colab": {
          "base_uri": "https://localhost:8080/",
          "height": 35
        },
        "id": "HNJsiO8I-BBA",
        "outputId": "b50b2ba5-8822-4da7-b081-a776f3e3cb51"
      },
      "execution_count": null,
      "outputs": [
        {
          "output_type": "execute_result",
          "data": {
            "text/plain": [
              "'def action(x):\\n  x = (\"Enter action you want\")\\n  if x.strip()==Withdrawal:\\n    print(\"\\n Savings \\n\\n Current\")\\n  if x.strip()==Pin Exchange:\\n      \\n'"
            ],
            "application/vnd.google.colaboratory.intrinsic+json": {
              "type": "string"
            }
          },
          "metadata": {},
          "execution_count": 3
        }
      ]
    },
    {
      "cell_type": "code",
      "source": [
        "def pin_exchange():\n",
        "  import random\n",
        "\n",
        "  card_number = int (input(\"Enter card number :\"))\n",
        "\n",
        "  otp = random.randint(1000,9999)\n",
        "  print(otp)\n",
        "\n",
        "  enter_otp =eval(input((\"ENter OTP Send to your Registered mobile number :\")))\n",
        "  if otp == enter_otp:\n",
        "\n",
        "      old_pin =int(input(\"Enter your old pin :\"))\n",
        "      new_pin =int(input(\"enter your new pin :\"))\n",
        "      x= old_pin\n",
        "      y = new_pin\n",
        "\n",
        "      if x == y:\n",
        "        print(\"Enter pin is same as old pin\")\n",
        "        print(\"Try Different Pin\")\n",
        "        exit()\n",
        "      else:\n",
        "        print(\"Pin changed Successfully \")\n",
        "        print(\"your new pin is :\",y)\n",
        "\n",
        "\n",
        "  else:\n",
        "    print(\"Entered otp did not Match , Try Again \")\n",
        "    print(\"Thank you\")\n",
        "    exit()"
      ],
      "metadata": {
        "id": "QP1k3CJu-hIV"
      },
      "execution_count": null,
      "outputs": []
    },
    {
      "cell_type": "code",
      "source": [
        "pin_exchange()"
      ],
      "metadata": {
        "colab": {
          "base_uri": "https://localhost:8080/"
        },
        "id": "M4YmdQLMYsnE",
        "outputId": "fba08423-be3f-4d72-a66f-03f2fb07f300"
      },
      "execution_count": null,
      "outputs": [
        {
          "output_type": "stream",
          "name": "stdout",
          "text": [
            "Enter card number :145\n",
            "2259\n",
            "ENter OTP Send to your Registered mobile number :2259\n",
            "Enter your old pin :458\n",
            "enter your new pin :4789\n",
            "Pin changed Successfully \n",
            "your new pin is : 4789\n"
          ]
        }
      ]
    },
    {
      "cell_type": "code",
      "source": [
        "#def pin exchange()\n",
        "import random\n",
        "\n",
        "card_number = int (input(\"Enter card number :\"))\n",
        "\n",
        "otp = random.randint(1000,9999)\n",
        "print(otp)\n",
        "\n",
        "enter_otp =eval(input((\"ENter OTP Send to your Registered mobile number :\")))\n",
        "if otp == enter_otp:\n",
        "\n",
        "    old_pin = eval(input(\"Enter your old pin :\"))\n",
        "    new_pin = eval(input(\"enter your new pin :\"))\n",
        "    x= old_pin\n",
        "    y = new_pin\n",
        "\n",
        "    if x == y:\n",
        "      print(\"Enter pin is same as old pin\")\n",
        "      print(\"Try Different Pin\")\n",
        "  \n",
        "    else:\n",
        "      print(\"Pin changed Successfully \")\n",
        "      print(\"your new pin is :\",y)\n",
        "\n",
        "\n",
        "else:\n",
        "  print(\"Entered otp did not Match , Try Again \")\n",
        "  print(\"Thank you\")\n",
        "  exit()\n",
        "\n",
        "\n",
        "\n",
        "\n",
        "  "
      ],
      "metadata": {
        "colab": {
          "base_uri": "https://localhost:8080/"
        },
        "id": "DGmw66ogKhGW",
        "outputId": "dbc43a56-2c7a-4af2-93c0-c9289cdc5c45"
      },
      "execution_count": null,
      "outputs": [
        {
          "output_type": "stream",
          "name": "stdout",
          "text": [
            "Enter card number :145214\n",
            "9810\n",
            "ENter OTP Send to your Registered mobile number :9810\n",
            "Enter your old pin :4785\n",
            "enter your new pin :1456\n",
            "Pin changed Successfully \n",
            "your new pin is : 1456\n"
          ]
        }
      ]
    },
    {
      "cell_type": "code",
      "source": [
        "def otp():\n",
        "  import random\n",
        "  otp = random.randint(1000,9999)\n",
        "  print(otp)\n",
        "  entered_otp = int(input(\"Enter otp recived on your Registered mobile number :\"))\n",
        "\n",
        "  #match the otp\n",
        "\n",
        "  if otp !=entered_otp:\n",
        "    print(\"entered OTP did not match \")\n",
        "    print(\"Try Again\")\n",
        "    return\n",
        "\n"
      ],
      "metadata": {
        "id": "147SMKUSVVYg"
      },
      "execution_count": null,
      "outputs": []
    },
    {
      "cell_type": "code",
      "source": [
        "otp()"
      ],
      "metadata": {
        "colab": {
          "base_uri": "https://localhost:8080/"
        },
        "id": "UPw9vG7IWYV1",
        "outputId": "883756c5-83f5-4c7a-b77d-d8d0e933bab2"
      },
      "execution_count": null,
      "outputs": [
        {
          "name": "stdout",
          "output_type": "stream",
          "text": [
            "2236\n",
            "Enter otp recived on your Registered mobile number :2236\n"
          ]
        }
      ]
    },
    {
      "cell_type": "code",
      "source": [
        ""
      ],
      "metadata": {
        "id": "npWTy1vcWYtO"
      },
      "execution_count": null,
      "outputs": []
    },
    {
      "cell_type": "code",
      "source": [
        "def block_card():\n",
        "  card_number = input (\"Enter Your Card Number : \")\n",
        "  import random\n",
        "  otp = random.randint(1000,9999)\n",
        "  print(otp)\n",
        "  entered_otp = int(input(\"Enter otp recived on your Registered mobile number :\"))\n",
        "\n",
        "  #match the otp\n",
        "\n",
        "  if otp !=entered_otp:\n",
        "    print(\"entered OTP did not match \")\n",
        "    print(\"Try Again\")\n",
        "    return\n",
        "\n",
        "  mobile_number = input(\"Enter Your Mobile Number :\")\n",
        "  print(\"\\n\\n\\n Your card number is :\",card_number,\"And your Mobile Numer is :\",mobile_number)\n",
        "\n",
        "  #conformation from customer to block card\n",
        "   \n",
        "  print(\"\\n\\n To Conform Entered Details enter \\'1\\' otherwise enter \\'0\\'\")\n",
        "  conform = int(input(\"\"))\n",
        "  if conform ==1:\n",
        "    print(\"Your card will be blocked in 24 Hours\")\n",
        "    print(\"you can request for new card from your Regiestered Mobile Number\")\n",
        "  elif conform == 0:\n",
        "    print(\"Your card will not be blocked \")\n"
      ],
      "metadata": {
        "id": "n2EVy94oWb3X"
      },
      "execution_count": null,
      "outputs": []
    },
    {
      "cell_type": "code",
      "source": [
        "block_card()"
      ],
      "metadata": {
        "colab": {
          "base_uri": "https://localhost:8080/"
        },
        "id": "z9jk0uRDutOq",
        "outputId": "fdef4922-7ff7-4233-ee2f-ac4f33b72542"
      },
      "execution_count": null,
      "outputs": [
        {
          "output_type": "stream",
          "name": "stdout",
          "text": [
            "Enter Your Card Number : 1452\n",
            "5548\n",
            "Enter otp recived on your Registered mobile number :452\n",
            "entered OTP did not match \n",
            "Try Again\n"
          ]
        }
      ]
    },
    {
      "cell_type": "code",
      "source": [
        "def block_card():\n",
        "  card_number = input (\"Enter Your Card Number : \")\n",
        "  otp()\n",
        "  mobile_number = input(\"\\n\\n Enter Your Mobile Number :\")\n",
        "  print(\"\\n\\n\\n Your card number is :\",card_number,\"And your Mobile Numer is :\",mobile_number)\n",
        "\n",
        "  #conformation from customer to block card\n",
        "   \n",
        "  print(\"\\n\\n To Conform Entered Details enter \\'1\\' otherwise enter \\'0\\'\")\n",
        "  conform = input(\" \")\n",
        "  print(conform)"
      ],
      "metadata": {
        "id": "V3KZjWpIuxOR"
      },
      "execution_count": null,
      "outputs": []
    },
    {
      "cell_type": "code",
      "source": [
        "block_card()"
      ],
      "metadata": {
        "colab": {
          "base_uri": "https://localhost:8080/"
        },
        "id": "Mu96rLaafwXC",
        "outputId": "e4ee145e-8ef5-4123-9a19-e6f397e44563"
      },
      "execution_count": null,
      "outputs": [
        {
          "output_type": "stream",
          "name": "stdout",
          "text": [
            "Enter Your Card Number : 1245\n",
            "1727\n",
            "Enter otp recived on your Registered mobile number :1452\n",
            "entered OTP did not match \n",
            "Try Again\n",
            "\n",
            "\n",
            " Enter Your Mobile Number :45\n",
            "\n",
            "\n",
            "\n",
            " Your card number is : 1245 And your Mobile Numer is : 45\n",
            "\n",
            "\n",
            " To Conform Entered Details enter '1' otherwise enter '0'\n",
            " 45\n",
            "45\n"
          ]
        }
      ]
    },
    {
      "cell_type": "code",
      "source": [
        "\n",
        "import random\n",
        "  otp = random.randint(1000,9999)\n",
        "  print(otp)\n",
        "  entered_otp = int(input(\"Enter otp recived on your Registered mobile number :\"))\n",
        "\n",
        "  #match the otp\n",
        "\n",
        "  if otp !=entered_otp:\n",
        "    print(\"entered OTP did not match \")\n",
        "    print(\"Try Again\")\n",
        "    return"
      ],
      "metadata": {
        "id": "gzUs2ZFjfmL8"
      },
      "execution_count": null,
      "outputs": []
    }
  ]
}