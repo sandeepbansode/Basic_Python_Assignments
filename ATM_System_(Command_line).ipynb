{
  "nbformat": 4,
  "nbformat_minor": 0,
  "metadata": {
    "colab": {
      "name": "ATM System (Command line).ipynb",
      "provenance": [],
      "collapsed_sections": [],
      "authorship_tag": "ABX9TyO8z+o2e6X4ccjb3PYkEgyI",
      "include_colab_link": true
    },
    "kernelspec": {
      "name": "python3",
      "display_name": "Python 3"
    },
    "language_info": {
      "name": "python"
    }
  },
  "cells": [
    {
      "cell_type": "markdown",
      "metadata": {
        "id": "view-in-github",
        "colab_type": "text"
      },
      "source": [
        "<a href=\"https://colab.research.google.com/github/sandeepbansode/Basic_Python_Assignments/blob/main/ATM_System_(Command_line).ipynb\" target=\"_parent\"><img src=\"https://colab.research.google.com/assets/colab-badge.svg\" alt=\"Open In Colab\"/></a>"
      ]
    },
    {
      "cell_type": "markdown",
      "source": [
        "# ATM System (Command line)\n",
        "Enter your card valid card check all are numbers? ---> (Take inputs)\n",
        "### 1. Display menu(Withdrawal, saving, current, other)\n",
        "### 2. Other\n",
        "a. PIN change, Block card\n",
        "### 3. Withdrawal\n",
        "\n",
        "a. Enter the amount to withdrawal in terms of 200 RS\n",
        "\n",
        "b. Check balance info\n",
        "\n",
        "c. If balance low then display Error message (Low balance)\n",
        "\n",
        "d. exit()\n",
        "\n",
        "e. Thank you\n",
        "\n",
        "Else:\n",
        "\n",
        "Update the remaining balance\n",
        "\n",
        "Write the balance in file.csv (name, account number, balance account type)\n",
        "Display message of successful transaction\n",
        "exit()\n",
        "### 4. PIN Exchange\n",
        "a. Enter card \n",
        "\n",
        "b. Enter the OTP\n",
        "\n",
        "c. Validate the OTP and mobile number\n",
        "\n",
        "d. Update the pin (as of now write it in csv file)file.csv (name, account number,\n",
        "balance account type, PIN)\n",
        "\n",
        "e. Display message of successful pin change\n",
        "\n",
        "f. Exit()\n",
        "### 5. Block Card\n",
        "a. Enter card number\n",
        "\n",
        "b. Enter the OTP\n",
        "\n",
        "c. Validate the OTP and mobile number\n",
        "\n",
        "d. Update the access field in csv to BLOCK ile.csv (name, account number, balance account type, PIN, access)\n",
        "\n",
        "e. Display successful message\n",
        "\n",
        "f. exit"
      ],
      "metadata": {
        "id": "rMbvYFY7jy2z"
      }
    },
    {
      "cell_type": "markdown",
      "source": [
        "# **Function to Display menu**"
      ],
      "metadata": {
        "id": "6Ag5ycWBe7tS"
      }
    },
    {
      "cell_type": "code",
      "execution_count": 15,
      "metadata": {
        "id": "CL_7d6NCdpZS"
      },
      "outputs": [],
      "source": [
        "#hare we using loops \n",
        "\n",
        "#Enter your card valid card check all are numbers? ---> (Take inputs)\n",
        "\n",
        "def condition():\n",
        "  card_number = input(\"Enter Your Card Number :\" )\n",
        "\n",
        "  if card_number.isnumeric() == True :   # or len(card_number)!=12:\n",
        "    print(\"\\n\\n 1. Withdrawal \\n\\n 2. Pin Exchange \\n\\n 3. Block Card \\n\\n 4. Other\\n\\n\")\n",
        "    \n",
        "  else: # card_number.isnumeric()==False : # and len(card_number)==12:\n",
        "    print(\"\\n\\nPlease Enter Valid card number\")\n",
        "    \n",
        "  \n"
      ]
    },
    {
      "cell_type": "code",
      "source": [
        "condition()"
      ],
      "metadata": {
        "colab": {
          "base_uri": "https://localhost:8080/"
        },
        "id": "C1O9ipwNo4CU",
        "outputId": "432c7472-3a1c-40c6-94fa-f455ce86ac0a"
      },
      "execution_count": 36,
      "outputs": [
        {
          "output_type": "stream",
          "name": "stdout",
          "text": [
            "Enter Your Card Number :145245\n",
            "\n",
            "\n",
            " 1. Withdrawal \n",
            "\n",
            " 2. Pin Exchange \n",
            "\n",
            " 3. Block Card \n",
            "\n",
            " 4. Other\n",
            "\n",
            "\n"
          ]
        }
      ]
    },
    {
      "cell_type": "markdown",
      "source": [
        "# **Function To Withdrawal amount**"
      ],
      "metadata": {
        "id": "CjYKVRYIg8dP"
      }
    },
    {
      "cell_type": "code",
      "source": [
        "def condition():\n",
        "\n",
        "  #take care number from number from customer\n",
        "\n",
        "  card_number = input(\"Enter card number :\")\n",
        "\n",
        "  # chekc the entered card number is right or wrong\n",
        "  # isnumeric() will check input is all numbers\n",
        "  # entered card number is accepts then it will display banking options. \n",
        "\n",
        "  if card_number.isnumeric()==True:\n",
        "    print(\"\\n\\n 1. Withdrawal \\n\\n 2. Pin Exchange \\n\\n 3. Block Card \\n\\n 4. Other \\n\\n\")\n",
        "  \n",
        "  #if entered card number is is not wrong it will request to enter correct\n",
        "\n",
        "  else:\n",
        "    print(\"\\n\\n Please Enter valid card number\")\n"
      ],
      "metadata": {
        "id": "dOgBsWbRtNl5"
      },
      "execution_count": 16,
      "outputs": []
    },
    {
      "cell_type": "code",
      "source": [
        "condition()"
      ],
      "metadata": {
        "colab": {
          "base_uri": "https://localhost:8080/"
        },
        "id": "yH_bm8Cm9sWB",
        "outputId": "cf07df5c-df5e-4417-ca8d-42fc1d4523e2"
      },
      "execution_count": 44,
      "outputs": [
        {
          "output_type": "stream",
          "name": "stdout",
          "text": [
            "Enter card number :145245\n",
            "\n",
            "\n",
            " 1. Withdrawal \n",
            "\n",
            " 2. Pin Exchange \n",
            "\n",
            " 3. Block Card \n",
            "\n",
            " 4. Other\n"
          ]
        }
      ]
    },
    {
      "cell_type": "code",
      "source": [
        "def withdrawal():\n",
        "\n",
        "\n",
        "#if put some amount in account\n",
        "\n",
        "  balance = 10000\n",
        "  print(\"\\n Your Account Balance is :\", balance)\n",
        "# we will ask the customer how much money they want to withdrawal.\n",
        "\n",
        "  w = eval(input (\"\\n Enter the amount you want to withdrawal (amount must be in multiple  of 200 rs. )\" ))\n",
        "\n",
        "#check the entered amount is in multiple of 200\n",
        "#and aslo check the balance. \n",
        "#Entered amount must be less than account balance.  \n",
        "  if w %200 == 0:\n",
        "    if w<=balance:\n",
        "      z = balance-w\n",
        "      print(\"\\n\\n Transaction is Succesful\",w,\"withdrawn Remeaning balance is:\",z,\"\\n\\n\")\n",
        "      print(\"\\n Thank you. Come Again \\n\")\n",
        "    else:\n",
        "      print(\"\\n Insufficient Balance \\n\")\n",
        "      exit\n",
        "      print(\"\\n Thank you \\n\")\n",
        "    \n",
        "  else:\n",
        "    print(\"\\n Enter amount in multiple of 200 \\n\")\n",
        "\n",
        "    return\n"
      ],
      "metadata": {
        "id": "GSALZiyWA76c"
      },
      "execution_count": 17,
      "outputs": []
    },
    {
      "cell_type": "code",
      "source": [
        "withdrawal()"
      ],
      "metadata": {
        "colab": {
          "base_uri": "https://localhost:8080/"
        },
        "id": "z0L5XKwjDRIo",
        "outputId": "c2ae5742-5e9a-470b-c24d-223170342e7f"
      },
      "execution_count": 9,
      "outputs": [
        {
          "output_type": "stream",
          "name": "stdout",
          "text": [
            "\n",
            " Your Account Balance is : 10000\n",
            "\n",
            " Enter the amount you want to withdrawal (amount must be in multiple  of 200 rs. )5600\n",
            "\n",
            "\n",
            " Transaction is Succesful 5600 withdrawn Remeaning balance is: 4400 \n",
            "\n",
            "\n",
            "\n",
            " Thank you. Come Again \n",
            "\n"
          ]
        }
      ]
    },
    {
      "cell_type": "markdown",
      "source": [
        "# **function to Pin Excange**"
      ],
      "metadata": {
        "id": "-Wr8Rs9KZNvM"
      }
    },
    {
      "cell_type": "code",
      "source": [
        "def pin_exchange():\n",
        "\n",
        "#import random to generate otp\n",
        "\n",
        "  import random\n",
        "#ask for card number to exchane pin\n",
        "\n",
        "\n",
        "  card_number =  int(input(\"\\n Enter Your card number :\"))\n",
        "#generate otp to confom users identity\n",
        "\n",
        "  otp = random.randint(1000,9999)\n",
        "  print(otp)\n",
        "\n",
        "  enter_otp =eval(input((\"\\n Enter OTP Send to your Registered mobile number :\")))\n",
        "  if otp == enter_otp:\n",
        "\n",
        "#ask for old pin and for new pin\n",
        "#if old pin and entered pin same it will ask for different\n",
        "\n",
        "      old_pin =int(input(\"\\n Enter your old pin :\"))\n",
        "      new_pin =int(input(\"\\n Enter new pin :\"))\n",
        "      x= old_pin\n",
        "      y = new_pin\n",
        "\n",
        "      if x == y:\n",
        "        print(\"\\n Entered pin is same as old pin\")\n",
        "        print(\"Try Different Pin\")\n",
        "        exit()\n",
        "      else:\n",
        "        print(\"\\n Pin changed Successfully \")\n",
        "        print(\"\\n your new pin is :\",y)\n",
        "        print(\"\\n Thank You\")\n",
        "\n",
        "#if entered pin dident match it will not go fether and will be exit from function\n",
        "  else:\n",
        "    print(\"\\n Entered otp did not Match , Try Again \")\n",
        "    print(\"Thank you\")\n",
        "    exit()"
      ],
      "metadata": {
        "id": "QP1k3CJu-hIV"
      },
      "execution_count": 18,
      "outputs": []
    },
    {
      "cell_type": "code",
      "source": [
        "pin_exchange()"
      ],
      "metadata": {
        "colab": {
          "base_uri": "https://localhost:8080/"
        },
        "id": "M4YmdQLMYsnE",
        "outputId": "0638b0fc-0182-4b1b-abf7-cca52e7c2333"
      },
      "execution_count": 82,
      "outputs": [
        {
          "output_type": "stream",
          "name": "stdout",
          "text": [
            "\n",
            " Enter Your card number :145245\n",
            "5838\n",
            "\n",
            " Enter OTP Send to your Registered mobile number :5838\n",
            "\n",
            " Enter your old pin :4563\n",
            "\n",
            " Enter new pin :4578\n",
            "\n",
            " Pin changed Successfully \n",
            "\n",
            " your new pin is : 4578\n",
            "\n",
            " Thank You\n"
          ]
        }
      ]
    },
    {
      "cell_type": "code",
      "source": [
        ""
      ],
      "metadata": {
        "id": "DGmw66ogKhGW"
      },
      "execution_count": 82,
      "outputs": []
    },
    {
      "cell_type": "markdown",
      "source": [
        "# **function to match OTP**"
      ],
      "metadata": {
        "id": "_VZWQb0LZExc"
      }
    },
    {
      "cell_type": "code",
      "source": [
        "def otp():\n",
        "  import random\n",
        "  otp = random.randint(1000,9999)\n",
        "  print(otp)\n",
        "  entered_otp = int(input(\"Enter otp recived on your Registered mobile number :\"))\n",
        "\n",
        "  #match the otp\n",
        "\n",
        "  if otp !=entered_otp:\n",
        "    print(\"entered OTP did not match \")\n",
        "    print(\"Try Again\")\n",
        "    return\n",
        "\n"
      ],
      "metadata": {
        "id": "147SMKUSVVYg"
      },
      "execution_count": 19,
      "outputs": []
    },
    {
      "cell_type": "code",
      "source": [
        "otp()"
      ],
      "metadata": {
        "colab": {
          "base_uri": "https://localhost:8080/"
        },
        "id": "UPw9vG7IWYV1",
        "outputId": "c078babd-742c-43e9-c1f1-b9d22ef1830c"
      },
      "execution_count": 84,
      "outputs": [
        {
          "name": "stdout",
          "output_type": "stream",
          "text": [
            "2781\n",
            "Enter otp recived on your Registered mobile number :2781\n"
          ]
        }
      ]
    },
    {
      "cell_type": "code",
      "source": [
        "\n"
      ],
      "metadata": {
        "id": "npWTy1vcWYtO"
      },
      "execution_count": 84,
      "outputs": []
    },
    {
      "cell_type": "markdown",
      "source": [
        "# **Block Card**"
      ],
      "metadata": {
        "id": "tWR8pG0yY8rE"
      }
    },
    {
      "cell_type": "code",
      "source": [
        "def block_card():\n",
        "  card_number = input (\"Enter Your Card Number : \")\n",
        "  import random\n",
        "  otp = random.randint(1000,9999)\n",
        "  print(otp)\n",
        "  entered_otp = int(input(\"Enter otp recived on your Registered mobile number :\"))\n",
        "\n",
        "  #match the otp\n",
        "\n",
        "  if otp !=entered_otp:\n",
        "    print(\"entered OTP did not match \")\n",
        "    print(\"Try Again\")\n",
        "    return\n",
        "\n",
        "  mobile_number = input(\"Enter Your Mobile Number :\")\n",
        "  print(\"\\n\\n\\n Your card number is :\",card_number,\"And your Mobile Numer is :\",mobile_number)\n",
        "\n",
        "  #conformation from customer to block card\n",
        "   \n",
        "  print(\"\\n\\n To Conform Entered Details enter \\'1\\' otherwise enter \\'0\\'\")\n",
        "  conform = int(input(\"\"))\n",
        "  if conform ==1:\n",
        "    print(\"Your card will be blocked in 24 Hours\")\n",
        "    print(\"you can request for new card from your Regiestered Mobile Number.\")\n",
        "  elif conform == 0:\n",
        "    print(\"Your card will not be blocked.\")\n"
      ],
      "metadata": {
        "id": "n2EVy94oWb3X"
      },
      "execution_count": 20,
      "outputs": []
    },
    {
      "cell_type": "code",
      "source": [
        "block_card()"
      ],
      "metadata": {
        "colab": {
          "base_uri": "https://localhost:8080/"
        },
        "id": "z9jk0uRDutOq",
        "outputId": "acf9b9b9-ab5e-4238-c2d2-286af0e92fe9"
      },
      "execution_count": 85,
      "outputs": [
        {
          "output_type": "stream",
          "name": "stdout",
          "text": [
            "Enter Your Card Number : 1458745\n",
            "9508\n",
            "Enter otp recived on your Registered mobile number :9508\n",
            "Enter Your Mobile Number :7854632569\n",
            "\n",
            "\n",
            "\n",
            " Your card number is : 1458745 And your Mobile Numer is : 7854632569\n",
            "\n",
            "\n",
            " To Conform Entered Details enter '1' otherwise enter '0'\n",
            "1\n",
            "Your card will be blocked in 24 Hours\n",
            "you can request for new card from your Regiestered Mobile Number.\n"
          ]
        }
      ]
    },
    {
      "cell_type": "code",
      "source": [
        ""
      ],
      "metadata": {
        "id": "V3KZjWpIuxOR"
      },
      "execution_count": 86,
      "outputs": []
    },
    {
      "cell_type": "code",
      "source": [
        "\n"
      ],
      "metadata": {
        "id": "Mu96rLaafwXC"
      },
      "execution_count": 88,
      "outputs": []
    },
    {
      "cell_type": "code",
      "source": [
        "\n",
        "import random\n",
        "otp = random.randint(1000,9999)\n",
        "print(otp)\n",
        "entered_otp = int(input(\"Enter otp recived on your Registered mobile number :\"))\n",
        "\n",
        "#match the otp\n",
        "\n",
        "if otp !=entered_otp:\n",
        "  print(\"entered OTP did not match \")\n",
        "  print(\"Try Again\")"
      ],
      "metadata": {
        "id": "gzUs2ZFjfmL8",
        "colab": {
          "base_uri": "https://localhost:8080/"
        },
        "outputId": "80cbff4e-4f5f-4d81-c318-9d1655957357"
      },
      "execution_count": 21,
      "outputs": [
        {
          "output_type": "stream",
          "name": "stdout",
          "text": [
            "5576\n",
            "Enter otp recived on your Registered mobile number :5567\n",
            "entered OTP did not match \n",
            "Try Again\n"
          ]
        }
      ]
    },
    {
      "cell_type": "markdown",
      "source": [
        "#**Final Atm System Command Line**\n",
        "\n",
        "\n",
        "now we arrange all functions to one cell we get all commants in cell"
      ],
      "metadata": {
        "id": "YBmrittbhV5U"
      }
    },
    {
      "cell_type": "code",
      "source": [
        ""
      ],
      "metadata": {
        "id": "gaia_PO87yGM"
      },
      "execution_count": null,
      "outputs": []
    },
    {
      "cell_type": "code",
      "source": [
        "Name = input(\"\\n Enter Your Name : \")\n",
        "print(\"\\n Hello Welcom\",Name, \"to XYZ ATM Command line\")\n",
        "print(\"\\n HOw May I Assist You ?\")\n",
        "print(\"\\n These are Some Action I Can Help You In That :\")\n",
        "print(\"\\n Withdrawal\",\"\\n\\n Pin Change\",\"\\n\\n Block Card\",\"\\n\\n Other \\n\")\n",
        "\n",
        "\n",
        "action = input(\"Enter the action You want to take :\" )\n",
        "\n",
        "if action == \"Withdrawal\":\n",
        "  print()\n",
        "  exit()\n",
        "withdrawal()\n",
        "\n",
        "if action ==\"Pin Change\":\n",
        "  print()\n",
        "  \n",
        "pin_exchange()\n",
        "\n",
        "if action == \"Block Card\":  \n",
        "  print()\n",
        "block_card()\n",
        "\n",
        "if action == \"Other\":\n",
        "  print(\"YOu can reach us on 18001801452\")\n",
        "  print(\"thank you\")"
      ],
      "metadata": {
        "colab": {
          "base_uri": "https://localhost:8080/"
        },
        "id": "HNJsiO8I-BBA",
        "outputId": "848eec6f-1467-4033-f217-61fe506a26b7"
      },
      "execution_count": 22,
      "outputs": [
        {
          "output_type": "stream",
          "name": "stdout",
          "text": [
            "\n",
            " Enter Your Name : SANDEEP\n",
            "\n",
            " Hello Welcom SANDEEP to XYZ ATM Command line\n",
            "\n",
            " HOw May I Assist You ?\n",
            "\n",
            " These are Some Action I Can Help You In That :\n",
            "\n",
            " Withdrawal \n",
            "\n",
            " Pin Change \n",
            "\n",
            " Block Card \n",
            "\n",
            " Other \n",
            "\n",
            "Enter the action You want to take :Withdrawal\n",
            "\n",
            "\n",
            " Your Account Balance is : 10000\n",
            "\n",
            " Enter the amount you want to withdrawal (amount must be in multiple  of 200 rs. )5600\n",
            "\n",
            "\n",
            " Transaction is Succesful 5600 withdrawn Remeaning balance is: 4400 \n",
            "\n",
            "\n",
            "\n",
            " Thank you. Come Again \n",
            "\n",
            "\n",
            " Enter Your card number :1457896\n",
            "4579\n",
            "\n",
            " Enter OTP Send to your Registered mobile number :4579\n",
            "\n",
            " Enter your old pin :7854\n",
            "\n",
            " Enter new pin :4789\n",
            "\n",
            " Pin changed Successfully \n",
            "\n",
            " your new pin is : 4789\n",
            "\n",
            " Thank You\n",
            "Enter Your Card Number : 1457896\n",
            "3219\n",
            "Enter otp recived on your Registered mobile number :3219\n",
            "Enter Your Mobile Number :7854563286\n",
            "\n",
            "\n",
            "\n",
            " Your card number is : 1457896 And your Mobile Numer is : 7854563286\n",
            "\n",
            "\n",
            " To Conform Entered Details enter '1' otherwise enter '0'\n",
            "1\n",
            "Your card will be blocked in 24 Hours\n",
            "you can request for new card from your Regiestered Mobile Number.\n"
          ]
        }
      ]
    },
    {
      "cell_type": "code",
      "source": [
        ""
      ],
      "metadata": {
        "id": "i4D8frgdi2MA"
      },
      "execution_count": null,
      "outputs": []
    },
    {
      "cell_type": "code",
      "source": [
        ""
      ],
      "metadata": {
        "id": "qb16jL6c2y3V"
      },
      "execution_count": 108,
      "outputs": []
    }
  ]
}