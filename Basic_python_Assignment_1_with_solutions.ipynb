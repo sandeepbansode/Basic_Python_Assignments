{
  "nbformat": 4,
  "nbformat_minor": 0,
  "metadata": {
    "colab": {
      "name": "Basic_python_Assignment_1_with_solution.ipynb",
      "provenance": [],
      "authorship_tag": "ABX9TyMsvkx0QPODVWD3qioqM2ai",
      "include_colab_link": true
    },
    "kernelspec": {
      "name": "python3",
      "display_name": "Python 3"
    },
    "language_info": {
      "name": "python"
    }
  },
  "cells": [
    {
      "cell_type": "markdown",
      "metadata": {
        "id": "view-in-github",
        "colab_type": "text"
      },
      "source": [
        "<a href=\"https://colab.research.google.com/github/sandeepbansode/Basic_Python_Assignments/blob/main/Basic_python_Assignment_1_with_solutions.ipynb\" target=\"_parent\"><img src=\"https://colab.research.google.com/assets/colab-badge.svg\" alt=\"Open In Colab\"/></a>"
      ]
    },
    {
      "cell_type": "markdown",
      "source": [
        "1. What is a List?\n",
        "\n",
        "2. What is a Tuple?\n",
        "\n",
        "3. What is the difference between List and Tuple?\n",
        "\n",
        "4. Python Program to find the largest element in the list.\n",
        "\n",
        "5. Python program to interchange first and last elements in a list.\n",
        "\n",
        "6. Python program to swap two elements in a list.\n",
        "\n",
        "7. Python program to Reverse a List.\n",
        "\n",
        "8. Python program to count occurrences of an element in a list.\n",
        "\n",
        "9. Python program to find the sum of elements in a list.\n",
        "\n",
        "10. Python program to Multiply all numbers in the list.\n",
        "\n",
        "11. What are the ways to find the length of a list.\n",
        "\n",
        "12. Python program to find the smallest and largest number in a list (Without min-max function).\n",
        "\n",
        "13. Python Program to find the area of a circle.\n",
        "\n",
        "14. Take inputs from the user to make a list. Again take one input from the user and search it in the list and delete that element, if found. Iterate over a list using for loop.\n",
        "\n",
        "15. You are given a list of integer elements. Make a new list that will store a square of elements of the previous list. (With and without list comprehension)\n",
        "\n",
        "i. Input_list = [2,5,6,12]\n",
        "\n",
        "ii. Output_list = [4,25,36,144]\n",
        "\n"
      ],
      "metadata": {
        "id": "Yl3JVartq8zp"
      }
    },
    {
      "cell_type": "code",
      "source": [
        ""
      ],
      "metadata": {
        "id": "3a3C7NLKsFCM"
      },
      "execution_count": null,
      "outputs": []
    },
    {
      "cell_type": "markdown",
      "source": [
        "# Q1. What is a list ?\n",
        "\n",
        "list is a data type in python.\n",
        "\n",
        "list is used to store multiple items in single variable\n",
        "\n",
        "list allows duplicate items. \n",
        "\n",
        "list allow heterogenious items.\n",
        "\n",
        "list is shown in square bracket i,e [ ].\n",
        "\n",
        "list is mutable data type.\n",
        "\n",
        "we can add,remove or change the value of items in list.\n",
        "\n",
        "to show the items in list we can use indexing and slice operator. \n",
        " \n",
        "list is orderd data type, defined order and that order will not change.\n"
      ],
      "metadata": {
        "id": "6nvnGYn4sJPY"
      }
    },
    {
      "cell_type": "markdown",
      "source": [
        "# Q2. what is tuple ?\n",
        "\n",
        "tuple is data type in python.\n",
        "\n",
        "tuple is used to store multiple items in single variablr. \n",
        "\n",
        "tuple is same like list but tuple is immutable. i,e once we store the value in tuple we can not change but we can ass or remve elements fron tuple.\n",
        "\n",
        "tuples are written in round brackets i,e in paranthesis ( ).\n",
        "\n",
        "tuple item are orderd, unchangable and allow duplicates. \n",
        "\n",
        "indexing is possible in tuple. \n",
        "\n",
        "we xan use the len() function to know the length of tuple.\n",
        "\n",
        "tuple can contain different data types. like string,integers,boolean ,etc.\n",
        "\n"
      ],
      "metadata": {
        "id": "BU9JRL-R1qEI"
      }
    },
    {
      "cell_type": "markdown",
      "source": [
        "Q3. What is the difference between List and Tuple?\n",
        "\n",
        "list is mutable data type and tuple is immutable that is main difference betn tuple and list. \n",
        "\n",
        "list consume more memory than tuple. \n",
        "\n",
        "the list is better for performing operations. "
      ],
      "metadata": {
        "id": "VWMPe6yH_wFy"
      }
    },
    {
      "cell_type": "markdown",
      "source": [
        "# Q4. Python Program to find the largest element in the list"
      ],
      "metadata": {
        "id": "OSIZXzd3Aav6"
      }
    },
    {
      "cell_type": "code",
      "source": [
        "#Q4.Python Program to find the largest element in the list\n",
        "\n",
        "x = [15,46,78,96,55,15,62]"
      ],
      "metadata": {
        "id": "jIkkvca40sXY"
      },
      "execution_count": null,
      "outputs": []
    },
    {
      "cell_type": "code",
      "source": [
        "#we can use the max operator to find maximun elemnt in list\n",
        "print(\"the maximum element in list is :\",max(x))"
      ],
      "metadata": {
        "colab": {
          "base_uri": "https://localhost:8080/"
        },
        "id": "QtCESDNnBPHR",
        "outputId": "bf796fec-791c-40fa-de16-6363b17cf3e2"
      },
      "execution_count": null,
      "outputs": [
        {
          "output_type": "stream",
          "name": "stdout",
          "text": [
            "the maximum element in list is : 96\n"
          ]
        }
      ]
    },
    {
      "cell_type": "code",
      "source": [
        "#also we can use sort() function \n",
        "\n",
        "x.sort()\n",
        "print(\"maximum number in list is :\", x[-1])\n"
      ],
      "metadata": {
        "colab": {
          "base_uri": "https://localhost:8080/"
        },
        "id": "Hz_pnXBNBVf1",
        "outputId": "6db4b268-29fe-4bc2-f7a2-188aed06e9dc"
      },
      "execution_count": null,
      "outputs": [
        {
          "output_type": "stream",
          "name": "stdout",
          "text": [
            "maximum number in list is : 96\n"
          ]
        }
      ]
    },
    {
      "cell_type": "code",
      "source": [
        "#in str type list\n",
        "x = [\"b\",\"nh\"]\n",
        "print(\"maximum element in list is :\",max(x))"
      ],
      "metadata": {
        "colab": {
          "base_uri": "https://localhost:8080/"
        },
        "id": "VtuJQrvSBy1Z",
        "outputId": "667ddda7-3ca0-44f8-a21b-9cfee737dae4"
      },
      "execution_count": null,
      "outputs": [
        {
          "output_type": "stream",
          "name": "stdout",
          "text": [
            "maximum element in list is : nh\n"
          ]
        }
      ]
    },
    {
      "cell_type": "code",
      "source": [
        "x =[\"g\",12,\"gh\",45] # not supported between instances of 'int' and 'str'"
      ],
      "metadata": {
        "id": "32-M6ks9CYOZ"
      },
      "execution_count": null,
      "outputs": []
    },
    {
      "cell_type": "code",
      "source": [
        "print(max(x))\n",
        "x.sort()"
      ],
      "metadata": {
        "id": "_9bIJotqC_hN"
      },
      "execution_count": null,
      "outputs": []
    },
    {
      "cell_type": "markdown",
      "source": [
        "# Q5. Python program to interchange first and last elements in a list."
      ],
      "metadata": {
        "id": "L--pGpQxDUDh"
      }
    },
    {
      "cell_type": "code",
      "source": [
        "#Q5.Python program to interchange first and last elements in a list.\n",
        "#progam to change\n",
        "x=[15,12,45,\"hj\"]\n",
        "\n",
        "y= x[0]  #assing the values in variable\n",
        "z= x[-1]\n",
        "x[0]=z    #swapping\n",
        "x[-1]=y\n",
        "print(x)"
      ],
      "metadata": {
        "colab": {
          "base_uri": "https://localhost:8080/"
        },
        "id": "53znSIrSDBEi",
        "outputId": "cde6a392-4d74-4945-c119-87bda6d3602b"
      },
      "execution_count": null,
      "outputs": [
        {
          "output_type": "stream",
          "name": "stdout",
          "text": [
            "['hj', 12, 45, 15]\n"
          ]
        }
      ]
    },
    {
      "cell_type": "markdown",
      "source": [
        "## Q6. Python program to swap two elements in a list"
      ],
      "metadata": {
        "id": "VK5RR1eCIt2H"
      }
    },
    {
      "cell_type": "code",
      "source": [
        "#Python program to swap two elements in a list\n",
        "\n",
        "x = [10,15,48,56,36,51,\"Hg\",\"PQ\",45]\n",
        "\n",
        "\"\"\"we have to assing the index values with variable wich we want to swap \n",
        "  suppose we want to swap 6th index value to 2nd and vise versa.\"\"\"\n",
        "\n",
        "y = x[6]\n",
        "z = x[2]\n",
        "'''now we stored the valune we can swap'''\n",
        "x[2] = y\n",
        "x[6] = z\n",
        "\n",
        "print(x)"
      ],
      "metadata": {
        "colab": {
          "base_uri": "https://localhost:8080/"
        },
        "id": "fvWr-2cHDvA7",
        "outputId": "1bb8e5b0-5ab9-4d1c-8cdb-aede75631ef9"
      },
      "execution_count": null,
      "outputs": [
        {
          "output_type": "stream",
          "name": "stdout",
          "text": [
            "[10, 15, 'Hg', 56, 36, 51, 48, 'PQ', 45]\n"
          ]
        }
      ]
    },
    {
      "cell_type": "markdown",
      "source": [
        "# Q7. Python program to Reverse a List\n",
        "\n",
        "we can reverse list using slice operator and using reverse function."
      ],
      "metadata": {
        "id": "OnQ36R_VK0Nx"
      }
    },
    {
      "cell_type": "code",
      "source": [
        "#using slice operator\n",
        "\n",
        "x = [1,2,3,4,'r','y']\n",
        "\n",
        "x[::-1] #it will print list from right side"
      ],
      "metadata": {
        "colab": {
          "base_uri": "https://localhost:8080/"
        },
        "id": "q9kp7o2cKn5p",
        "outputId": "55f9df0e-647d-4543-a5b6-15083daa4727"
      },
      "execution_count": null,
      "outputs": [
        {
          "output_type": "execute_result",
          "data": {
            "text/plain": [
              "['y', 'r', 4, 3, 2, 1]"
            ]
          },
          "metadata": {},
          "execution_count": 25
        }
      ]
    },
    {
      "cell_type": "code",
      "source": [
        "#using reverse function\n",
        "x = [1,2,3,'r','A',\"z\"]\n",
        "\n",
        "x.reverse()\n",
        "\n",
        "print(x)"
      ],
      "metadata": {
        "colab": {
          "base_uri": "https://localhost:8080/"
        },
        "id": "0Ae14TIqLJCy",
        "outputId": "3d50e725-aa61-4a32-c185-d62cad6367cd"
      },
      "execution_count": null,
      "outputs": [
        {
          "output_type": "stream",
          "name": "stdout",
          "text": [
            "['z', 'A', 'r', 3, 2, 1]\n"
          ]
        }
      ]
    },
    {
      "cell_type": "markdown",
      "source": [
        "# Q8 . Python program to count occurrences of an element in a list.\n",
        "\n",
        "we can use count operator to count occurrence of an element in list.\n",
        "\n",
        "\n"
      ],
      "metadata": {
        "id": "mT1VeLPVLqxZ"
      }
    },
    {
      "cell_type": "code",
      "source": [
        "x = [10,11,12,13,10,12,11,13,11,12,10,15,14,15,14,15,10]\n",
        "\n",
        "x.count(10)"
      ],
      "metadata": {
        "colab": {
          "base_uri": "https://localhost:8080/"
        },
        "id": "yqtRwsd8LhgG",
        "outputId": "35dbb0e7-3cbf-4934-b418-17b5caf71af7"
      },
      "execution_count": null,
      "outputs": [
        {
          "output_type": "execute_result",
          "data": {
            "text/plain": [
              "4"
            ]
          },
          "metadata": {},
          "execution_count": 29
        }
      ]
    },
    {
      "cell_type": "code",
      "source": [
        "print(\"the 11 is in above list\",x.count(11),\"times\")\n",
        "print(x.count(12))\n",
        "print(x.count(13))\n",
        "print(x.count(14))\n",
        "print(x.count(15))\n",
        "print(x.count(16))"
      ],
      "metadata": {
        "colab": {
          "base_uri": "https://localhost:8080/"
        },
        "id": "mc3gpNMvM6WN",
        "outputId": "fed1be71-f5f3-4f35-8aa1-afe484625532"
      },
      "execution_count": null,
      "outputs": [
        {
          "output_type": "stream",
          "name": "stdout",
          "text": [
            "the 11 is in above list 3 times\n",
            "3\n",
            "2\n",
            "2\n",
            "3\n",
            "0\n"
          ]
        }
      ]
    },
    {
      "cell_type": "markdown",
      "source": [
        "# Q9 . Python program to find the sum of elements in a list."
      ],
      "metadata": {
        "id": "7XmdU2Y2NmYi"
      }
    },
    {
      "cell_type": "code",
      "source": [
        "x = [10,12,45,78,96] #we have to use loop\n",
        "\n",
        "\n",
        "sum = 0 \n",
        "\n",
        "for i in x: #iterate each value and add in sum\n",
        "  sum=sum+i\n",
        "print(sum)"
      ],
      "metadata": {
        "colab": {
          "base_uri": "https://localhost:8080/"
        },
        "id": "83L1kYyYNLHV",
        "outputId": "fb996998-6157-4ad3-986e-422c26a85814"
      },
      "execution_count": null,
      "outputs": [
        {
          "output_type": "stream",
          "name": "stdout",
          "text": [
            "241\n"
          ]
        }
      ]
    },
    {
      "cell_type": "code",
      "source": [
        "x = list(eval(input(\"Enter list: \")))\n",
        "sum = 0\n",
        "for i in x:\n",
        "  sum = sum+i\n",
        "print(sum)  "
      ],
      "metadata": {
        "colab": {
          "base_uri": "https://localhost:8080/"
        },
        "id": "DgG4Xvr3N9US",
        "outputId": "ca56e7ac-3fb2-4d1c-bee7-d4846b76d78f"
      },
      "execution_count": null,
      "outputs": [
        {
          "output_type": "stream",
          "name": "stdout",
          "text": [
            "Enter list: 10,10,10,12,15\n",
            "57\n"
          ]
        }
      ]
    },
    {
      "cell_type": "markdown",
      "source": [
        "## Q10. Python program to Multiply all numbers in the list"
      ],
      "metadata": {
        "id": "cEJnXNCZPLAu"
      }
    },
    {
      "cell_type": "code",
      "source": [
        "a= [1,2,3,4,5]\n",
        "mul = 1       #here we cant put initial values as zero. zero mul anything will be zero\n",
        "for i in a:\n",
        "  mul = mul*i\n",
        "print(\"multiplication of list :\",mul)  "
      ],
      "metadata": {
        "colab": {
          "base_uri": "https://localhost:8080/"
        },
        "id": "nJAR23KDOZKa",
        "outputId": "2397e3f4-706b-4cf2-a4f4-1b554914714f"
      },
      "execution_count": null,
      "outputs": [
        {
          "output_type": "stream",
          "name": "stdout",
          "text": [
            "multiplication of list 120\n"
          ]
        }
      ]
    },
    {
      "cell_type": "code",
      "source": [
        "a = list(eval(input(\"Enter the list : \")))\n",
        "\n",
        "mul = 1\n",
        "for i in a:\n",
        "  mul = mul*i\n",
        "print('Multiplication of entered number is :',mul)  "
      ],
      "metadata": {
        "colab": {
          "base_uri": "https://localhost:8080/"
        },
        "id": "nyxPoOHQPiPK",
        "outputId": "efc34281-35b1-41d0-a2cd-60a99d1544d1"
      },
      "execution_count": null,
      "outputs": [
        {
          "output_type": "stream",
          "name": "stdout",
          "text": [
            "Enter the list : 1,20,2,3\n",
            "Multiplication of entered number is : 120\n"
          ]
        }
      ]
    },
    {
      "cell_type": "markdown",
      "source": [
        "# Q11. What are the ways to find the length of a list\n",
        "\n",
        "we can find lenght using len( ) operator"
      ],
      "metadata": {
        "id": "MFUaciIxQzBu"
      }
    },
    {
      "cell_type": "code",
      "source": [
        "x = [10,12,1,45,14,'df','ff']\n",
        "len(x)"
      ],
      "metadata": {
        "colab": {
          "base_uri": "https://localhost:8080/"
        },
        "id": "m4202KevQFNQ",
        "outputId": "2eb7b774-37d2-4928-878f-f25d49193e61"
      },
      "execution_count": null,
      "outputs": [
        {
          "output_type": "execute_result",
          "data": {
            "text/plain": [
              "7"
            ]
          },
          "metadata": {},
          "execution_count": 46
        }
      ]
    },
    {
      "cell_type": "markdown",
      "source": [
        "## Q12. Python program to find the smallest and largest number in a list (Without min-max function)"
      ],
      "metadata": {
        "id": "w4zgBLp0RiPN"
      }
    },
    {
      "cell_type": "code",
      "source": [
        "#Python program to find the smallest and largest number in a list (Without min-max function)\n",
        "\n",
        "x = int(input(\"enter a number : \"))\n",
        "y = int(input(\"enter a number : \"))\n",
        "z = int(input(\"enter a number : \"))\n",
        "\n",
        "#we can use if statments to find smallest and largest number\n",
        "\n",
        "if x>y and x>z :\n",
        "  print(\"Largest number is :\", x)\n",
        "elif y>z:\n",
        "  print(\"Largest number is : \",y)\n",
        "else :\n",
        "  print(\"Largest number is : \",z)\n",
        "\n",
        "  \n",
        "   "
      ],
      "metadata": {
        "colab": {
          "base_uri": "https://localhost:8080/"
        },
        "id": "q2qtB__tRCkC",
        "outputId": "17576a4b-d2c9-4c6c-b5f6-55dd817e5902"
      },
      "execution_count": null,
      "outputs": [
        {
          "output_type": "stream",
          "name": "stdout",
          "text": [
            "enter a number : 45\n",
            "enter a number : 48\n",
            "enter a number : 49\n",
            "Largest number is :  49\n"
          ]
        }
      ]
    },
    {
      "cell_type": "code",
      "source": [
        "#all program we can write in one line \n",
        "x = int(input(\"enter a number : \"))\n",
        "y = int(input(\"enter a number : \"))\n",
        "z = int(input(\"enter a number : \"))\n",
        "x if x>y and X>z else y if y>z else z\n",
        "\n"
      ],
      "metadata": {
        "colab": {
          "base_uri": "https://localhost:8080/"
        },
        "id": "ESpPWmvmR27z",
        "outputId": "ddd93978-573c-4162-96d6-8820d4881698"
      },
      "execution_count": null,
      "outputs": [
        {
          "name": "stdout",
          "output_type": "stream",
          "text": [
            "enter a number : 10\n",
            "enter a number : 15\n",
            "enter a number : 45\n"
          ]
        },
        {
          "output_type": "execute_result",
          "data": {
            "text/plain": [
              "45"
            ]
          },
          "metadata": {},
          "execution_count": 51
        }
      ]
    },
    {
      "cell_type": "code",
      "source": [
        "# for the smallest number\n",
        "x = int(input(\"enter a number : \"))\n",
        "y = int(input(\"enter a number : \"))\n",
        "z = int(input(\"enter a number : \"))\n",
        "\n",
        "if x<y and x<z :\n",
        "  print(\"smallest number is : \", x)\n",
        "elif y<z:\n",
        "  print(\"Smallest number is : \", y)\n",
        "else : \n",
        "  print(\"smallest number is : \",z)  \n"
      ],
      "metadata": {
        "colab": {
          "base_uri": "https://localhost:8080/"
        },
        "id": "t3aPrfjgTuuK",
        "outputId": "a27c6ec2-2f55-4d5b-c33b-0599db99787d"
      },
      "execution_count": null,
      "outputs": [
        {
          "output_type": "stream",
          "name": "stdout",
          "text": [
            "enter a number : 45\n",
            "enter a number : 78\n",
            "enter a number : 5\n",
            "smallest number is :  5\n"
          ]
        }
      ]
    },
    {
      "cell_type": "code",
      "source": [
        "#one line program  for find smallest number\n",
        "\n",
        "a = int(input(\"enter a number : \"))\n",
        "b = int(input(\"enter a number : \"))\n",
        "c = int(input(\"enter a number : \"))\n",
        "\n",
        "a if a<b and a<c else b if b<c else c"
      ],
      "metadata": {
        "colab": {
          "base_uri": "https://localhost:8080/"
        },
        "id": "7v8BZEQvUqRF",
        "outputId": "fe562346-dec5-427d-af3a-739f3218d3c6"
      },
      "execution_count": null,
      "outputs": [
        {
          "name": "stdout",
          "output_type": "stream",
          "text": [
            "enter a number : 45\n",
            "enter a number : 48\n",
            "enter a number : 15\n"
          ]
        },
        {
          "output_type": "execute_result",
          "data": {
            "text/plain": [
              "15"
            ]
          },
          "metadata": {},
          "execution_count": 54
        }
      ]
    },
    {
      "cell_type": "markdown",
      "source": [
        "#Q13. Python Program to find the area of a circle"
      ],
      "metadata": {
        "id": "Yh8B1NjpVRH2"
      }
    },
    {
      "cell_type": "code",
      "source": [
        "#area of circle is pie*r2\n",
        "#we can put value of pie as 3.14 or import math function \n",
        "\n",
        "import math\n",
        "r = int(input(\"enter the value of radius : \"))\n",
        "\n",
        "a= pi*r**2\n",
        "\n",
        "print(\"Area of a circle is : \", a)"
      ],
      "metadata": {
        "colab": {
          "base_uri": "https://localhost:8080/"
        },
        "id": "pOLVWclrVJu8",
        "outputId": "7025f2c8-45e1-4562-e029-b2abdb636444"
      },
      "execution_count": null,
      "outputs": [
        {
          "output_type": "stream",
          "name": "stdout",
          "text": [
            "enter the value of radius : 4\n",
            "Area of a circle is :  50.26548245743669\n"
          ]
        }
      ]
    },
    {
      "cell_type": "code",
      "source": [
        "from math import pi\n",
        "print(pi)"
      ],
      "metadata": {
        "colab": {
          "base_uri": "https://localhost:8080/"
        },
        "id": "AFdAKYbSVkIo",
        "outputId": "3b354611-e730-496b-8b6b-af3ac927f820"
      },
      "execution_count": null,
      "outputs": [
        {
          "output_type": "stream",
          "name": "stdout",
          "text": [
            "3.141592653589793\n"
          ]
        }
      ]
    },
    {
      "cell_type": "markdown",
      "source": [
        "# Q14. Take inputs from the user to make a list. Again take one input from the user and search it in the list and delete that element, if found. Iterate over a list using for loop."
      ],
      "metadata": {
        "id": "D38gHbuoWx0U"
      }
    },
    {
      "cell_type": "code",
      "source": [
        "x =eval(input(\"Enter list : \"))\n",
        "z =[]\n",
        "y = eval(input(\"enter int find in list: \"))\n",
        "\n",
        "print(y in x) #check y is in list or not\n",
        "\n",
        "for i in x:  #for loop itrate every value \n",
        "  if i==y:\n",
        "   continue   #if value find in list it will continue and dont print\n",
        "  else:         \n",
        "    z.append(i)\n",
        "print(z)"
      ],
      "metadata": {
        "colab": {
          "base_uri": "https://localhost:8080/"
        },
        "id": "V8v9CmKJWAjp",
        "outputId": "ac588913-0488-4e59-f5c3-938e824cb4e1"
      },
      "execution_count": 21,
      "outputs": [
        {
          "output_type": "stream",
          "name": "stdout",
          "text": [
            "Enter list : 14,15,45,78,15,15\n",
            "enter int find in list: 15\n",
            "True\n",
            "[14, 45, 78]\n"
          ]
        }
      ]
    },
    {
      "cell_type": "markdown",
      "source": [
        "# Q15 . You are given a list of integer elements. Make a new list that will store a square of elements of the previous list. (With and without list comprehension)\n",
        "\n",
        "i. Input_list = [2,5,6,12]\n",
        "\n",
        "ii. Output_list = [4,25,36,144]"
      ],
      "metadata": {
        "id": "c6qYV-DOZCCe"
      }
    },
    {
      "cell_type": "code",
      "source": [
        "x = [2,5,6,12]\n",
        "y= [] #creating empty list \n",
        "for i in x:\n",
        "  i=i*i   \n",
        "  y.append(i) #append new items in list\n",
        "print(y)"
      ],
      "metadata": {
        "colab": {
          "base_uri": "https://localhost:8080/"
        },
        "id": "KCCqLxbdXQsI",
        "outputId": "604d74af-a77d-465f-c5ce-b9af9ac8b74b"
      },
      "execution_count": null,
      "outputs": [
        {
          "output_type": "stream",
          "name": "stdout",
          "text": [
            "[4, 25, 36, 144]\n"
          ]
        }
      ]
    },
    {
      "cell_type": "code",
      "source": [
        ""
      ],
      "metadata": {
        "id": "43L1mMbdZYoq"
      },
      "execution_count": null,
      "outputs": []
    }
  ]
}